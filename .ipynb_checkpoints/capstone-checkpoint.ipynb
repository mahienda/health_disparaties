{
 "cells": [
  {
   "cell_type": "code",
   "execution_count": 1,
   "id": "012f3a96-6489-46fb-a616-1454f9f924a6",
   "metadata": {},
   "outputs": [],
   "source": [
    "import pandas as pd\n",
    "ipums = \"data/nhis_00001.csv.gz\"\n"
   ]
  },
  {
   "cell_type": "code",
   "execution_count": 2,
   "id": "c5fcc607-05f3-40e6-a0f5-20ae273e4ef2",
   "metadata": {},
   "outputs": [
    {
     "data": {
      "text/html": [
       "<div>\n",
       "<style scoped>\n",
       "    .dataframe tbody tr th:only-of-type {\n",
       "        vertical-align: middle;\n",
       "    }\n",
       "\n",
       "    .dataframe tbody tr th {\n",
       "        vertical-align: top;\n",
       "    }\n",
       "\n",
       "    .dataframe thead th {\n",
       "        text-align: right;\n",
       "    }\n",
       "</style>\n",
       "<table border=\"1\" class=\"dataframe\">\n",
       "  <thead>\n",
       "    <tr style=\"text-align: right;\">\n",
       "      <th></th>\n",
       "      <th>YEAR</th>\n",
       "      <th>SERIAL</th>\n",
       "      <th>STRATA</th>\n",
       "      <th>PSU</th>\n",
       "      <th>NHISHID</th>\n",
       "      <th>PERNUM</th>\n",
       "      <th>NHISPID</th>\n",
       "      <th>HHX</th>\n",
       "      <th>SAMPWEIGHT</th>\n",
       "      <th>LONGWEIGHT</th>\n",
       "      <th>...</th>\n",
       "      <th>HEIGHT</th>\n",
       "      <th>WEIGHT</th>\n",
       "      <th>BMICALC</th>\n",
       "      <th>HINOTCOVE</th>\n",
       "      <th>HIPRIVATEE</th>\n",
       "      <th>HISTATEE</th>\n",
       "      <th>PCEMAILHPYR</th>\n",
       "      <th>PCACS</th>\n",
       "      <th>CVDDIAG</th>\n",
       "      <th>CVDTEST</th>\n",
       "    </tr>\n",
       "  </thead>\n",
       "  <tbody>\n",
       "    <tr>\n",
       "      <th>0</th>\n",
       "      <td>2020</td>\n",
       "      <td>1</td>\n",
       "      <td>150</td>\n",
       "      <td>25</td>\n",
       "      <td>0002020H000002</td>\n",
       "      <td>1</td>\n",
       "      <td>0002020H00000210</td>\n",
       "      <td>H000002</td>\n",
       "      <td>5946.002</td>\n",
       "      <td>17605.5</td>\n",
       "      <td>...</td>\n",
       "      <td>66</td>\n",
       "      <td>230</td>\n",
       "      <td>37.1</td>\n",
       "      <td>1</td>\n",
       "      <td>2</td>\n",
       "      <td>10</td>\n",
       "      <td>NaN</td>\n",
       "      <td>NaN</td>\n",
       "      <td>1.0</td>\n",
       "      <td>1.0</td>\n",
       "    </tr>\n",
       "    <tr>\n",
       "      <th>1</th>\n",
       "      <td>2020</td>\n",
       "      <td>2</td>\n",
       "      <td>111</td>\n",
       "      <td>10</td>\n",
       "      <td>0002020H000003</td>\n",
       "      <td>1</td>\n",
       "      <td>0002020H00000310</td>\n",
       "      <td>H000003</td>\n",
       "      <td>6288.726</td>\n",
       "      <td>0.0</td>\n",
       "      <td>...</td>\n",
       "      <td>71</td>\n",
       "      <td>180</td>\n",
       "      <td>25.1</td>\n",
       "      <td>1</td>\n",
       "      <td>2</td>\n",
       "      <td>10</td>\n",
       "      <td>NaN</td>\n",
       "      <td>NaN</td>\n",
       "      <td>0.0</td>\n",
       "      <td>0.0</td>\n",
       "    </tr>\n",
       "    <tr>\n",
       "      <th>2</th>\n",
       "      <td>2020</td>\n",
       "      <td>3</td>\n",
       "      <td>133</td>\n",
       "      <td>3</td>\n",
       "      <td>0002020H000004</td>\n",
       "      <td>1</td>\n",
       "      <td>0002020H00000410</td>\n",
       "      <td>H000004</td>\n",
       "      <td>6083.271</td>\n",
       "      <td>0.0</td>\n",
       "      <td>...</td>\n",
       "      <td>64</td>\n",
       "      <td>155</td>\n",
       "      <td>26.6</td>\n",
       "      <td>1</td>\n",
       "      <td>2</td>\n",
       "      <td>10</td>\n",
       "      <td>NaN</td>\n",
       "      <td>NaN</td>\n",
       "      <td>0.0</td>\n",
       "      <td>0.0</td>\n",
       "    </tr>\n",
       "  </tbody>\n",
       "</table>\n",
       "<p>3 rows × 30 columns</p>\n",
       "</div>"
      ],
      "text/plain": [
       "   YEAR  SERIAL  STRATA  PSU         NHISHID  PERNUM           NHISPID  \\\n",
       "0  2020       1     150   25  0002020H000002       1  0002020H00000210   \n",
       "1  2020       2     111   10  0002020H000003       1  0002020H00000310   \n",
       "2  2020       3     133    3  0002020H000004       1  0002020H00000410   \n",
       "\n",
       "       HHX  SAMPWEIGHT  LONGWEIGHT  ...  HEIGHT  WEIGHT  BMICALC  HINOTCOVE  \\\n",
       "0  H000002    5946.002     17605.5  ...      66     230     37.1          1   \n",
       "1  H000003    6288.726         0.0  ...      71     180     25.1          1   \n",
       "2  H000004    6083.271         0.0  ...      64     155     26.6          1   \n",
       "\n",
       "   HIPRIVATEE  HISTATEE  PCEMAILHPYR  PCACS  CVDDIAG  CVDTEST  \n",
       "0           2        10          NaN    NaN      1.0      1.0  \n",
       "1           2        10          NaN    NaN      0.0      0.0  \n",
       "2           2        10          NaN    NaN      0.0      0.0  \n",
       "\n",
       "[3 rows x 30 columns]"
      ]
     },
     "execution_count": 2,
     "metadata": {},
     "output_type": "execute_result"
    }
   ],
   "source": [
    "df = pd.read_csv(ipums, low_memory=False)\n",
    "\n",
    "df.head(3)\n"
   ]
  },
  {
   "cell_type": "code",
   "execution_count": 3,
   "id": "07bb122f-fe68-4b1e-b369-1d181b2b7c8f",
   "metadata": {},
   "outputs": [],
   "source": [
    "rename_columns = {\n",
    "    # \n",
    "    \"YEAR\": \"year\",\n",
    "    \"SERIAL\": \"serial_number\",\n",
    "    \"STRATA\": \"sampling_strata\",\n",
    "    \"PSU\": \"primary_sampling_unit\",\n",
    "    \"NHISHID\": \"household_id\",\n",
    "    \"PERNUM\": \"person_number\",\n",
    "    \"NHISPID\": \"person_id\",\n",
    "    \"HHX\": \"household_number\",\n",
    "    \"RECTYPE\": \"record_type\",         \n",
    "    \"ASTATFLG\": \"sample_adult_flag\",   \n",
    "    \"CSTATFLG\": \"sample_child_flag\",   \n",
    "    # weights\n",
    "    \"SAMPWEIGHT\": \"sample_person_weight\",\n",
    "    \"LONGWEIGHT\": \"longitudinal_weight\",\n",
    "\n",
    "    # demographics\n",
    "    \"SEX\": \"sex\",\n",
    "    \"RACENEW\": \"race\",\n",
    "    \"LANGHOMEOT\": \"non_english_at_home\",\n",
    "\n",
    "    # education\n",
    "    \"EDUC\": \"education_attainment\",\n",
    "    \"MAXEDUC\": \"max_education_in_family\",\n",
    "\n",
    "    # health status \n",
    "    \"HEALTH\": \"health_status\",\n",
    "    \"HEIGHT\": \"height_inches\",\n",
    "    \"WEIGHT\": \"weight_pounds\",\n",
    "    \"BMICALC\": \"bmi\",\n",
    "\n",
    "    # insurance / access\n",
    "    \"HINOTCOVE\": \"health_insurance_coverage\",\n",
    "    \"HIPRIVATEE\": \"private_insurance_coverage\",\n",
    "    \"HISTATEE\": \"state_plan_insurance_coverage\",\n",
    "    \"PCEMAILHPYR\": \"emailed_provider_past_12mo\",\n",
    "    \"PCACS\": \"internet_access\",\n",
    "\n",
    "    # covid\n",
    "    \"CVDDIAG\": \"covid19_diagnosed_flag\",\n",
    "    \"CVDTEST\": \"covid19_tested_flag\",\n",
    "}\n"
   ]
  },
  {
   "cell_type": "code",
   "execution_count": 4,
   "id": "0ed25de0-cd6d-44d3-8f86-4ed723da8259",
   "metadata": {},
   "outputs": [],
   "source": [
    "df.rename(columns=rename_columns, inplace=True)"
   ]
  },
  {
   "cell_type": "code",
   "execution_count": 5,
   "id": "befff30f-d20d-4ed1-b51a-aad4f9d6b478",
   "metadata": {},
   "outputs": [
    {
     "data": {
      "text/html": [
       "<div>\n",
       "<style scoped>\n",
       "    .dataframe tbody tr th:only-of-type {\n",
       "        vertical-align: middle;\n",
       "    }\n",
       "\n",
       "    .dataframe tbody tr th {\n",
       "        vertical-align: top;\n",
       "    }\n",
       "\n",
       "    .dataframe thead th {\n",
       "        text-align: right;\n",
       "    }\n",
       "</style>\n",
       "<table border=\"1\" class=\"dataframe\">\n",
       "  <thead>\n",
       "    <tr style=\"text-align: right;\">\n",
       "      <th></th>\n",
       "      <th>year</th>\n",
       "      <th>serial_number</th>\n",
       "      <th>sampling_strata</th>\n",
       "      <th>primary_sampling_unit</th>\n",
       "      <th>household_id</th>\n",
       "      <th>person_number</th>\n",
       "      <th>person_id</th>\n",
       "      <th>household_number</th>\n",
       "      <th>sample_person_weight</th>\n",
       "      <th>longitudinal_weight</th>\n",
       "      <th>...</th>\n",
       "      <th>height_inches</th>\n",
       "      <th>weight_pounds</th>\n",
       "      <th>bmi</th>\n",
       "      <th>health_insurance_coverage</th>\n",
       "      <th>private_insurance_coverage</th>\n",
       "      <th>state_plan_insurance_coverage</th>\n",
       "      <th>emailed_provider_past_12mo</th>\n",
       "      <th>internet_access</th>\n",
       "      <th>covid19_diagnosed_flag</th>\n",
       "      <th>covid19_tested_flag</th>\n",
       "    </tr>\n",
       "  </thead>\n",
       "  <tbody>\n",
       "    <tr>\n",
       "      <th>0</th>\n",
       "      <td>2020</td>\n",
       "      <td>1</td>\n",
       "      <td>150</td>\n",
       "      <td>25</td>\n",
       "      <td>0002020H000002</td>\n",
       "      <td>1</td>\n",
       "      <td>0002020H00000210</td>\n",
       "      <td>H000002</td>\n",
       "      <td>5946.002</td>\n",
       "      <td>17605.50</td>\n",
       "      <td>...</td>\n",
       "      <td>66</td>\n",
       "      <td>230</td>\n",
       "      <td>37.1</td>\n",
       "      <td>1</td>\n",
       "      <td>2</td>\n",
       "      <td>10</td>\n",
       "      <td>NaN</td>\n",
       "      <td>NaN</td>\n",
       "      <td>1.0</td>\n",
       "      <td>1.0</td>\n",
       "    </tr>\n",
       "    <tr>\n",
       "      <th>1</th>\n",
       "      <td>2020</td>\n",
       "      <td>2</td>\n",
       "      <td>111</td>\n",
       "      <td>10</td>\n",
       "      <td>0002020H000003</td>\n",
       "      <td>1</td>\n",
       "      <td>0002020H00000310</td>\n",
       "      <td>H000003</td>\n",
       "      <td>6288.726</td>\n",
       "      <td>0.00</td>\n",
       "      <td>...</td>\n",
       "      <td>71</td>\n",
       "      <td>180</td>\n",
       "      <td>25.1</td>\n",
       "      <td>1</td>\n",
       "      <td>2</td>\n",
       "      <td>10</td>\n",
       "      <td>NaN</td>\n",
       "      <td>NaN</td>\n",
       "      <td>0.0</td>\n",
       "      <td>0.0</td>\n",
       "    </tr>\n",
       "    <tr>\n",
       "      <th>2</th>\n",
       "      <td>2020</td>\n",
       "      <td>3</td>\n",
       "      <td>133</td>\n",
       "      <td>3</td>\n",
       "      <td>0002020H000004</td>\n",
       "      <td>1</td>\n",
       "      <td>0002020H00000410</td>\n",
       "      <td>H000004</td>\n",
       "      <td>6083.271</td>\n",
       "      <td>0.00</td>\n",
       "      <td>...</td>\n",
       "      <td>64</td>\n",
       "      <td>155</td>\n",
       "      <td>26.6</td>\n",
       "      <td>1</td>\n",
       "      <td>2</td>\n",
       "      <td>10</td>\n",
       "      <td>NaN</td>\n",
       "      <td>NaN</td>\n",
       "      <td>0.0</td>\n",
       "      <td>0.0</td>\n",
       "    </tr>\n",
       "    <tr>\n",
       "      <th>3</th>\n",
       "      <td>2020</td>\n",
       "      <td>4</td>\n",
       "      <td>139</td>\n",
       "      <td>45</td>\n",
       "      <td>0002020H000007</td>\n",
       "      <td>1</td>\n",
       "      <td>0002020H00000710</td>\n",
       "      <td>H000007</td>\n",
       "      <td>11306.962</td>\n",
       "      <td>0.00</td>\n",
       "      <td>...</td>\n",
       "      <td>67</td>\n",
       "      <td>240</td>\n",
       "      <td>37.6</td>\n",
       "      <td>1</td>\n",
       "      <td>2</td>\n",
       "      <td>10</td>\n",
       "      <td>NaN</td>\n",
       "      <td>NaN</td>\n",
       "      <td>0.0</td>\n",
       "      <td>0.0</td>\n",
       "    </tr>\n",
       "    <tr>\n",
       "      <th>4</th>\n",
       "      <td>2020</td>\n",
       "      <td>5</td>\n",
       "      <td>130</td>\n",
       "      <td>21</td>\n",
       "      <td>0002020H000009</td>\n",
       "      <td>1</td>\n",
       "      <td>0002020H00000910</td>\n",
       "      <td>H000009</td>\n",
       "      <td>6471.818</td>\n",
       "      <td>19317.18</td>\n",
       "      <td>...</td>\n",
       "      <td>66</td>\n",
       "      <td>180</td>\n",
       "      <td>29.0</td>\n",
       "      <td>2</td>\n",
       "      <td>1</td>\n",
       "      <td>10</td>\n",
       "      <td>NaN</td>\n",
       "      <td>NaN</td>\n",
       "      <td>1.0</td>\n",
       "      <td>1.0</td>\n",
       "    </tr>\n",
       "    <tr>\n",
       "      <th>5</th>\n",
       "      <td>2020</td>\n",
       "      <td>6</td>\n",
       "      <td>131</td>\n",
       "      <td>2</td>\n",
       "      <td>0002020H000011</td>\n",
       "      <td>1</td>\n",
       "      <td>0002020H00001110</td>\n",
       "      <td>H000011</td>\n",
       "      <td>3121.049</td>\n",
       "      <td>13087.37</td>\n",
       "      <td>...</td>\n",
       "      <td>96</td>\n",
       "      <td>996</td>\n",
       "      <td>996.0</td>\n",
       "      <td>1</td>\n",
       "      <td>2</td>\n",
       "      <td>10</td>\n",
       "      <td>NaN</td>\n",
       "      <td>NaN</td>\n",
       "      <td>1.0</td>\n",
       "      <td>1.0</td>\n",
       "    </tr>\n",
       "    <tr>\n",
       "      <th>6</th>\n",
       "      <td>2020</td>\n",
       "      <td>7</td>\n",
       "      <td>128</td>\n",
       "      <td>27</td>\n",
       "      <td>0002020H000014</td>\n",
       "      <td>1</td>\n",
       "      <td>0002020H00001410</td>\n",
       "      <td>H000014</td>\n",
       "      <td>754.476</td>\n",
       "      <td>0.00</td>\n",
       "      <td>...</td>\n",
       "      <td>68</td>\n",
       "      <td>160</td>\n",
       "      <td>24.3</td>\n",
       "      <td>1</td>\n",
       "      <td>2</td>\n",
       "      <td>10</td>\n",
       "      <td>NaN</td>\n",
       "      <td>NaN</td>\n",
       "      <td>1.0</td>\n",
       "      <td>1.0</td>\n",
       "    </tr>\n",
       "    <tr>\n",
       "      <th>7</th>\n",
       "      <td>2020</td>\n",
       "      <td>8</td>\n",
       "      <td>123</td>\n",
       "      <td>22</td>\n",
       "      <td>0002020H000018</td>\n",
       "      <td>1</td>\n",
       "      <td>0002020H00001810</td>\n",
       "      <td>H000018</td>\n",
       "      <td>5120.231</td>\n",
       "      <td>0.00</td>\n",
       "      <td>...</td>\n",
       "      <td>64</td>\n",
       "      <td>160</td>\n",
       "      <td>27.5</td>\n",
       "      <td>1</td>\n",
       "      <td>1</td>\n",
       "      <td>10</td>\n",
       "      <td>NaN</td>\n",
       "      <td>NaN</td>\n",
       "      <td>0.0</td>\n",
       "      <td>0.0</td>\n",
       "    </tr>\n",
       "    <tr>\n",
       "      <th>8</th>\n",
       "      <td>2020</td>\n",
       "      <td>9</td>\n",
       "      <td>122</td>\n",
       "      <td>11</td>\n",
       "      <td>0002020H000019</td>\n",
       "      <td>1</td>\n",
       "      <td>0002020H00001910</td>\n",
       "      <td>H000019</td>\n",
       "      <td>2682.171</td>\n",
       "      <td>0.00</td>\n",
       "      <td>...</td>\n",
       "      <td>64</td>\n",
       "      <td>160</td>\n",
       "      <td>27.5</td>\n",
       "      <td>2</td>\n",
       "      <td>1</td>\n",
       "      <td>10</td>\n",
       "      <td>NaN</td>\n",
       "      <td>NaN</td>\n",
       "      <td>1.0</td>\n",
       "      <td>2.0</td>\n",
       "    </tr>\n",
       "    <tr>\n",
       "      <th>9</th>\n",
       "      <td>2020</td>\n",
       "      <td>10</td>\n",
       "      <td>149</td>\n",
       "      <td>18</td>\n",
       "      <td>0002020H000022</td>\n",
       "      <td>1</td>\n",
       "      <td>0002020H00002210</td>\n",
       "      <td>H000022</td>\n",
       "      <td>1738.221</td>\n",
       "      <td>16060.22</td>\n",
       "      <td>...</td>\n",
       "      <td>67</td>\n",
       "      <td>155</td>\n",
       "      <td>24.3</td>\n",
       "      <td>1</td>\n",
       "      <td>2</td>\n",
       "      <td>10</td>\n",
       "      <td>NaN</td>\n",
       "      <td>NaN</td>\n",
       "      <td>1.0</td>\n",
       "      <td>1.0</td>\n",
       "    </tr>\n",
       "  </tbody>\n",
       "</table>\n",
       "<p>10 rows × 30 columns</p>\n",
       "</div>"
      ],
      "text/plain": [
       "   year  serial_number  sampling_strata  primary_sampling_unit  \\\n",
       "0  2020              1              150                     25   \n",
       "1  2020              2              111                     10   \n",
       "2  2020              3              133                      3   \n",
       "3  2020              4              139                     45   \n",
       "4  2020              5              130                     21   \n",
       "5  2020              6              131                      2   \n",
       "6  2020              7              128                     27   \n",
       "7  2020              8              123                     22   \n",
       "8  2020              9              122                     11   \n",
       "9  2020             10              149                     18   \n",
       "\n",
       "     household_id  person_number         person_id household_number  \\\n",
       "0  0002020H000002              1  0002020H00000210          H000002   \n",
       "1  0002020H000003              1  0002020H00000310          H000003   \n",
       "2  0002020H000004              1  0002020H00000410          H000004   \n",
       "3  0002020H000007              1  0002020H00000710          H000007   \n",
       "4  0002020H000009              1  0002020H00000910          H000009   \n",
       "5  0002020H000011              1  0002020H00001110          H000011   \n",
       "6  0002020H000014              1  0002020H00001410          H000014   \n",
       "7  0002020H000018              1  0002020H00001810          H000018   \n",
       "8  0002020H000019              1  0002020H00001910          H000019   \n",
       "9  0002020H000022              1  0002020H00002210          H000022   \n",
       "\n",
       "   sample_person_weight  longitudinal_weight  ...  height_inches  \\\n",
       "0              5946.002             17605.50  ...             66   \n",
       "1              6288.726                 0.00  ...             71   \n",
       "2              6083.271                 0.00  ...             64   \n",
       "3             11306.962                 0.00  ...             67   \n",
       "4              6471.818             19317.18  ...             66   \n",
       "5              3121.049             13087.37  ...             96   \n",
       "6               754.476                 0.00  ...             68   \n",
       "7              5120.231                 0.00  ...             64   \n",
       "8              2682.171                 0.00  ...             64   \n",
       "9              1738.221             16060.22  ...             67   \n",
       "\n",
       "   weight_pounds    bmi  health_insurance_coverage  \\\n",
       "0            230   37.1                          1   \n",
       "1            180   25.1                          1   \n",
       "2            155   26.6                          1   \n",
       "3            240   37.6                          1   \n",
       "4            180   29.0                          2   \n",
       "5            996  996.0                          1   \n",
       "6            160   24.3                          1   \n",
       "7            160   27.5                          1   \n",
       "8            160   27.5                          2   \n",
       "9            155   24.3                          1   \n",
       "\n",
       "   private_insurance_coverage  state_plan_insurance_coverage  \\\n",
       "0                           2                             10   \n",
       "1                           2                             10   \n",
       "2                           2                             10   \n",
       "3                           2                             10   \n",
       "4                           1                             10   \n",
       "5                           2                             10   \n",
       "6                           2                             10   \n",
       "7                           1                             10   \n",
       "8                           1                             10   \n",
       "9                           2                             10   \n",
       "\n",
       "   emailed_provider_past_12mo  internet_access  covid19_diagnosed_flag  \\\n",
       "0                         NaN              NaN                     1.0   \n",
       "1                         NaN              NaN                     0.0   \n",
       "2                         NaN              NaN                     0.0   \n",
       "3                         NaN              NaN                     0.0   \n",
       "4                         NaN              NaN                     1.0   \n",
       "5                         NaN              NaN                     1.0   \n",
       "6                         NaN              NaN                     1.0   \n",
       "7                         NaN              NaN                     0.0   \n",
       "8                         NaN              NaN                     1.0   \n",
       "9                         NaN              NaN                     1.0   \n",
       "\n",
       "   covid19_tested_flag  \n",
       "0                  1.0  \n",
       "1                  0.0  \n",
       "2                  0.0  \n",
       "3                  0.0  \n",
       "4                  1.0  \n",
       "5                  1.0  \n",
       "6                  1.0  \n",
       "7                  0.0  \n",
       "8                  2.0  \n",
       "9                  1.0  \n",
       "\n",
       "[10 rows x 30 columns]"
      ]
     },
     "execution_count": 5,
     "metadata": {},
     "output_type": "execute_result"
    }
   ],
   "source": [
    "df.head(10)"
   ]
  },
  {
   "cell_type": "code",
   "execution_count": 6,
   "id": "a0bdcb2a-f86d-4fbc-b6b2-728e23f070ac",
   "metadata": {},
   "outputs": [
    {
     "name": "stdout",
     "output_type": "stream",
     "text": [
      "Index(['year', 'serial_number', 'sampling_strata', 'primary_sampling_unit',\n",
      "       'household_id', 'person_number', 'person_id', 'household_number',\n",
      "       'sample_person_weight', 'longitudinal_weight', 'PARTWEIGHT',\n",
      "       'sample_adult_flag', 'sample_child_flag', 'AGE', 'sex', 'race',\n",
      "       'non_english_at_home', 'education_attainment',\n",
      "       'max_education_in_family', 'health_status', 'height_inches',\n",
      "       'weight_pounds', 'bmi', 'health_insurance_coverage',\n",
      "       'private_insurance_coverage', 'state_plan_insurance_coverage',\n",
      "       'emailed_provider_past_12mo', 'internet_access',\n",
      "       'covid19_diagnosed_flag', 'covid19_tested_flag'],\n",
      "      dtype='object')\n"
     ]
    }
   ],
   "source": [
    "print(df.columns)"
   ]
  },
  {
   "cell_type": "code",
   "execution_count": 7,
   "id": "bcc366cb-8c25-4aef-b4b9-508f3a227863",
   "metadata": {},
   "outputs": [
    {
     "data": {
      "text/html": [
       "<div>\n",
       "<style scoped>\n",
       "    .dataframe tbody tr th:only-of-type {\n",
       "        vertical-align: middle;\n",
       "    }\n",
       "\n",
       "    .dataframe tbody tr th {\n",
       "        vertical-align: top;\n",
       "    }\n",
       "\n",
       "    .dataframe thead th {\n",
       "        text-align: right;\n",
       "    }\n",
       "</style>\n",
       "<table border=\"1\" class=\"dataframe\">\n",
       "  <thead>\n",
       "    <tr style=\"text-align: right;\">\n",
       "      <th></th>\n",
       "      <th>year</th>\n",
       "      <th>serial_number</th>\n",
       "      <th>sampling_strata</th>\n",
       "      <th>primary_sampling_unit</th>\n",
       "      <th>household_id</th>\n",
       "      <th>person_number</th>\n",
       "      <th>person_id</th>\n",
       "      <th>household_number</th>\n",
       "      <th>sample_person_weight</th>\n",
       "      <th>longitudinal_weight</th>\n",
       "      <th>...</th>\n",
       "      <th>height_inches</th>\n",
       "      <th>weight_pounds</th>\n",
       "      <th>bmi</th>\n",
       "      <th>health_insurance_coverage</th>\n",
       "      <th>private_insurance_coverage</th>\n",
       "      <th>state_plan_insurance_coverage</th>\n",
       "      <th>emailed_provider_past_12mo</th>\n",
       "      <th>internet_access</th>\n",
       "      <th>covid19_diagnosed_flag</th>\n",
       "      <th>covid19_tested_flag</th>\n",
       "    </tr>\n",
       "  </thead>\n",
       "  <tbody>\n",
       "    <tr>\n",
       "      <th>0</th>\n",
       "      <td>2020</td>\n",
       "      <td>1</td>\n",
       "      <td>150</td>\n",
       "      <td>25</td>\n",
       "      <td>0002020H000002</td>\n",
       "      <td>1</td>\n",
       "      <td>0002020H00000210</td>\n",
       "      <td>H000002</td>\n",
       "      <td>5946.002</td>\n",
       "      <td>17605.50</td>\n",
       "      <td>...</td>\n",
       "      <td>66</td>\n",
       "      <td>230</td>\n",
       "      <td>37.1</td>\n",
       "      <td>1</td>\n",
       "      <td>2</td>\n",
       "      <td>10</td>\n",
       "      <td>NaN</td>\n",
       "      <td>NaN</td>\n",
       "      <td>1.0</td>\n",
       "      <td>1.0</td>\n",
       "    </tr>\n",
       "    <tr>\n",
       "      <th>1</th>\n",
       "      <td>2020</td>\n",
       "      <td>2</td>\n",
       "      <td>111</td>\n",
       "      <td>10</td>\n",
       "      <td>0002020H000003</td>\n",
       "      <td>1</td>\n",
       "      <td>0002020H00000310</td>\n",
       "      <td>H000003</td>\n",
       "      <td>6288.726</td>\n",
       "      <td>0.00</td>\n",
       "      <td>...</td>\n",
       "      <td>71</td>\n",
       "      <td>180</td>\n",
       "      <td>25.1</td>\n",
       "      <td>1</td>\n",
       "      <td>2</td>\n",
       "      <td>10</td>\n",
       "      <td>NaN</td>\n",
       "      <td>NaN</td>\n",
       "      <td>0.0</td>\n",
       "      <td>0.0</td>\n",
       "    </tr>\n",
       "    <tr>\n",
       "      <th>2</th>\n",
       "      <td>2020</td>\n",
       "      <td>3</td>\n",
       "      <td>133</td>\n",
       "      <td>3</td>\n",
       "      <td>0002020H000004</td>\n",
       "      <td>1</td>\n",
       "      <td>0002020H00000410</td>\n",
       "      <td>H000004</td>\n",
       "      <td>6083.271</td>\n",
       "      <td>0.00</td>\n",
       "      <td>...</td>\n",
       "      <td>64</td>\n",
       "      <td>155</td>\n",
       "      <td>26.6</td>\n",
       "      <td>1</td>\n",
       "      <td>2</td>\n",
       "      <td>10</td>\n",
       "      <td>NaN</td>\n",
       "      <td>NaN</td>\n",
       "      <td>0.0</td>\n",
       "      <td>0.0</td>\n",
       "    </tr>\n",
       "    <tr>\n",
       "      <th>3</th>\n",
       "      <td>2020</td>\n",
       "      <td>4</td>\n",
       "      <td>139</td>\n",
       "      <td>45</td>\n",
       "      <td>0002020H000007</td>\n",
       "      <td>1</td>\n",
       "      <td>0002020H00000710</td>\n",
       "      <td>H000007</td>\n",
       "      <td>11306.962</td>\n",
       "      <td>0.00</td>\n",
       "      <td>...</td>\n",
       "      <td>67</td>\n",
       "      <td>240</td>\n",
       "      <td>37.6</td>\n",
       "      <td>1</td>\n",
       "      <td>2</td>\n",
       "      <td>10</td>\n",
       "      <td>NaN</td>\n",
       "      <td>NaN</td>\n",
       "      <td>0.0</td>\n",
       "      <td>0.0</td>\n",
       "    </tr>\n",
       "    <tr>\n",
       "      <th>4</th>\n",
       "      <td>2020</td>\n",
       "      <td>5</td>\n",
       "      <td>130</td>\n",
       "      <td>21</td>\n",
       "      <td>0002020H000009</td>\n",
       "      <td>1</td>\n",
       "      <td>0002020H00000910</td>\n",
       "      <td>H000009</td>\n",
       "      <td>6471.818</td>\n",
       "      <td>19317.18</td>\n",
       "      <td>...</td>\n",
       "      <td>66</td>\n",
       "      <td>180</td>\n",
       "      <td>29.0</td>\n",
       "      <td>2</td>\n",
       "      <td>1</td>\n",
       "      <td>10</td>\n",
       "      <td>NaN</td>\n",
       "      <td>NaN</td>\n",
       "      <td>1.0</td>\n",
       "      <td>1.0</td>\n",
       "    </tr>\n",
       "    <tr>\n",
       "      <th>5</th>\n",
       "      <td>2020</td>\n",
       "      <td>6</td>\n",
       "      <td>131</td>\n",
       "      <td>2</td>\n",
       "      <td>0002020H000011</td>\n",
       "      <td>1</td>\n",
       "      <td>0002020H00001110</td>\n",
       "      <td>H000011</td>\n",
       "      <td>3121.049</td>\n",
       "      <td>13087.37</td>\n",
       "      <td>...</td>\n",
       "      <td>96</td>\n",
       "      <td>996</td>\n",
       "      <td>996.0</td>\n",
       "      <td>1</td>\n",
       "      <td>2</td>\n",
       "      <td>10</td>\n",
       "      <td>NaN</td>\n",
       "      <td>NaN</td>\n",
       "      <td>1.0</td>\n",
       "      <td>1.0</td>\n",
       "    </tr>\n",
       "    <tr>\n",
       "      <th>6</th>\n",
       "      <td>2020</td>\n",
       "      <td>7</td>\n",
       "      <td>128</td>\n",
       "      <td>27</td>\n",
       "      <td>0002020H000014</td>\n",
       "      <td>1</td>\n",
       "      <td>0002020H00001410</td>\n",
       "      <td>H000014</td>\n",
       "      <td>754.476</td>\n",
       "      <td>0.00</td>\n",
       "      <td>...</td>\n",
       "      <td>68</td>\n",
       "      <td>160</td>\n",
       "      <td>24.3</td>\n",
       "      <td>1</td>\n",
       "      <td>2</td>\n",
       "      <td>10</td>\n",
       "      <td>NaN</td>\n",
       "      <td>NaN</td>\n",
       "      <td>1.0</td>\n",
       "      <td>1.0</td>\n",
       "    </tr>\n",
       "    <tr>\n",
       "      <th>7</th>\n",
       "      <td>2020</td>\n",
       "      <td>8</td>\n",
       "      <td>123</td>\n",
       "      <td>22</td>\n",
       "      <td>0002020H000018</td>\n",
       "      <td>1</td>\n",
       "      <td>0002020H00001810</td>\n",
       "      <td>H000018</td>\n",
       "      <td>5120.231</td>\n",
       "      <td>0.00</td>\n",
       "      <td>...</td>\n",
       "      <td>64</td>\n",
       "      <td>160</td>\n",
       "      <td>27.5</td>\n",
       "      <td>1</td>\n",
       "      <td>1</td>\n",
       "      <td>10</td>\n",
       "      <td>NaN</td>\n",
       "      <td>NaN</td>\n",
       "      <td>0.0</td>\n",
       "      <td>0.0</td>\n",
       "    </tr>\n",
       "    <tr>\n",
       "      <th>8</th>\n",
       "      <td>2020</td>\n",
       "      <td>9</td>\n",
       "      <td>122</td>\n",
       "      <td>11</td>\n",
       "      <td>0002020H000019</td>\n",
       "      <td>1</td>\n",
       "      <td>0002020H00001910</td>\n",
       "      <td>H000019</td>\n",
       "      <td>2682.171</td>\n",
       "      <td>0.00</td>\n",
       "      <td>...</td>\n",
       "      <td>64</td>\n",
       "      <td>160</td>\n",
       "      <td>27.5</td>\n",
       "      <td>2</td>\n",
       "      <td>1</td>\n",
       "      <td>10</td>\n",
       "      <td>NaN</td>\n",
       "      <td>NaN</td>\n",
       "      <td>1.0</td>\n",
       "      <td>2.0</td>\n",
       "    </tr>\n",
       "    <tr>\n",
       "      <th>9</th>\n",
       "      <td>2020</td>\n",
       "      <td>10</td>\n",
       "      <td>149</td>\n",
       "      <td>18</td>\n",
       "      <td>0002020H000022</td>\n",
       "      <td>1</td>\n",
       "      <td>0002020H00002210</td>\n",
       "      <td>H000022</td>\n",
       "      <td>1738.221</td>\n",
       "      <td>16060.22</td>\n",
       "      <td>...</td>\n",
       "      <td>67</td>\n",
       "      <td>155</td>\n",
       "      <td>24.3</td>\n",
       "      <td>1</td>\n",
       "      <td>2</td>\n",
       "      <td>10</td>\n",
       "      <td>NaN</td>\n",
       "      <td>NaN</td>\n",
       "      <td>1.0</td>\n",
       "      <td>1.0</td>\n",
       "    </tr>\n",
       "  </tbody>\n",
       "</table>\n",
       "<p>10 rows × 30 columns</p>\n",
       "</div>"
      ],
      "text/plain": [
       "   year  serial_number  sampling_strata  primary_sampling_unit  \\\n",
       "0  2020              1              150                     25   \n",
       "1  2020              2              111                     10   \n",
       "2  2020              3              133                      3   \n",
       "3  2020              4              139                     45   \n",
       "4  2020              5              130                     21   \n",
       "5  2020              6              131                      2   \n",
       "6  2020              7              128                     27   \n",
       "7  2020              8              123                     22   \n",
       "8  2020              9              122                     11   \n",
       "9  2020             10              149                     18   \n",
       "\n",
       "     household_id  person_number         person_id household_number  \\\n",
       "0  0002020H000002              1  0002020H00000210          H000002   \n",
       "1  0002020H000003              1  0002020H00000310          H000003   \n",
       "2  0002020H000004              1  0002020H00000410          H000004   \n",
       "3  0002020H000007              1  0002020H00000710          H000007   \n",
       "4  0002020H000009              1  0002020H00000910          H000009   \n",
       "5  0002020H000011              1  0002020H00001110          H000011   \n",
       "6  0002020H000014              1  0002020H00001410          H000014   \n",
       "7  0002020H000018              1  0002020H00001810          H000018   \n",
       "8  0002020H000019              1  0002020H00001910          H000019   \n",
       "9  0002020H000022              1  0002020H00002210          H000022   \n",
       "\n",
       "   sample_person_weight  longitudinal_weight  ...  height_inches  \\\n",
       "0              5946.002             17605.50  ...             66   \n",
       "1              6288.726                 0.00  ...             71   \n",
       "2              6083.271                 0.00  ...             64   \n",
       "3             11306.962                 0.00  ...             67   \n",
       "4              6471.818             19317.18  ...             66   \n",
       "5              3121.049             13087.37  ...             96   \n",
       "6               754.476                 0.00  ...             68   \n",
       "7              5120.231                 0.00  ...             64   \n",
       "8              2682.171                 0.00  ...             64   \n",
       "9              1738.221             16060.22  ...             67   \n",
       "\n",
       "   weight_pounds    bmi  health_insurance_coverage  \\\n",
       "0            230   37.1                          1   \n",
       "1            180   25.1                          1   \n",
       "2            155   26.6                          1   \n",
       "3            240   37.6                          1   \n",
       "4            180   29.0                          2   \n",
       "5            996  996.0                          1   \n",
       "6            160   24.3                          1   \n",
       "7            160   27.5                          1   \n",
       "8            160   27.5                          2   \n",
       "9            155   24.3                          1   \n",
       "\n",
       "   private_insurance_coverage  state_plan_insurance_coverage  \\\n",
       "0                           2                             10   \n",
       "1                           2                             10   \n",
       "2                           2                             10   \n",
       "3                           2                             10   \n",
       "4                           1                             10   \n",
       "5                           2                             10   \n",
       "6                           2                             10   \n",
       "7                           1                             10   \n",
       "8                           1                             10   \n",
       "9                           2                             10   \n",
       "\n",
       "   emailed_provider_past_12mo  internet_access  covid19_diagnosed_flag  \\\n",
       "0                         NaN              NaN                     1.0   \n",
       "1                         NaN              NaN                     0.0   \n",
       "2                         NaN              NaN                     0.0   \n",
       "3                         NaN              NaN                     0.0   \n",
       "4                         NaN              NaN                     1.0   \n",
       "5                         NaN              NaN                     1.0   \n",
       "6                         NaN              NaN                     1.0   \n",
       "7                         NaN              NaN                     0.0   \n",
       "8                         NaN              NaN                     1.0   \n",
       "9                         NaN              NaN                     1.0   \n",
       "\n",
       "   covid19_tested_flag  \n",
       "0                  1.0  \n",
       "1                  0.0  \n",
       "2                  0.0  \n",
       "3                  0.0  \n",
       "4                  1.0  \n",
       "5                  1.0  \n",
       "6                  1.0  \n",
       "7                  0.0  \n",
       "8                  2.0  \n",
       "9                  1.0  \n",
       "\n",
       "[10 rows x 30 columns]"
      ]
     },
     "execution_count": 7,
     "metadata": {},
     "output_type": "execute_result"
    }
   ],
   "source": [
    "df.head(10)"
   ]
  },
  {
   "cell_type": "code",
   "execution_count": 8,
   "id": "0b419bcf-d328-4a71-ab10-ec2cba1eae12",
   "metadata": {},
   "outputs": [
    {
     "data": {
      "text/plain": [
       "0         510\n",
       "1         510\n",
       "2         521\n",
       "3         103\n",
       "4         400\n",
       "         ... \n",
       "188414    201\n",
       "188415    303\n",
       "188416    400\n",
       "188417    301\n",
       "188418    303\n",
       "Name: education_attainment, Length: 188419, dtype: int64"
      ]
     },
     "execution_count": 8,
     "metadata": {},
     "output_type": "execute_result"
    }
   ],
   "source": [
    "df[\"education_attainment\"]"
   ]
  },
  {
   "cell_type": "code",
   "execution_count": 9,
   "id": "2b8e0af8-317d-4876-a7d8-a3c4b9b676d4",
   "metadata": {},
   "outputs": [],
   "source": [
    "def edu_label(code):\n",
    "    if code in {100,101,102,103,104,105,106,107,108,109,110,111,112,113,114,115,116}:\n",
    "        return \"Less than HS\"\n",
    "    if code in {200,201,202}:\n",
    "        return \"HS diploma/GED\"\n",
    "    if code in {300,301,302,303}:\n",
    "        return \"Some college/AA\"\n",
    "    if code == 400:\n",
    "        return \"Bachelor's\"\n",
    "    if code in {500,510,520,521,522,530}:\n",
    "        return \"Graduate/Professional\"\n",
    "    if code in {996,997,998,999,0}:\n",
    "        return \"Unknown\"\n",
    "    return \"Other\"\n",
    "\n"
   ]
  },
  {
   "cell_type": "code",
   "execution_count": 10,
   "id": "31eb9af8-a3d3-4ce9-933c-81e722c50f34",
   "metadata": {},
   "outputs": [],
   "source": [
    "df[\"education_attainment_group\"] = df[\"education_attainment\"].apply(edu_label)"
   ]
  },
  {
   "cell_type": "code",
   "execution_count": 11,
   "id": "af56e35c-2340-4064-b922-7bb1966ec5a0",
   "metadata": {},
   "outputs": [
    {
     "name": "stdout",
     "output_type": "stream",
     "text": [
      "education_attainment_group\n",
      "Some college/AA          42188\n",
      "Unknown                  38308\n",
      "HS diploma/GED           37642\n",
      "Bachelor's               34955\n",
      "Graduate/Professional    22772\n",
      "Less than HS             12554\n",
      "Name: count, dtype: int64\n"
     ]
    }
   ],
   "source": [
    "print(df[\"education_attainment_group\"].value_counts(dropna=False).head(10))"
   ]
  },
  {
   "cell_type": "code",
   "execution_count": 12,
   "id": "be6cea34-dfa7-4299-8c44-71af1663c884",
   "metadata": {},
   "outputs": [
    {
     "data": {
      "text/html": [
       "<div>\n",
       "<style scoped>\n",
       "    .dataframe tbody tr th:only-of-type {\n",
       "        vertical-align: middle;\n",
       "    }\n",
       "\n",
       "    .dataframe tbody tr th {\n",
       "        vertical-align: top;\n",
       "    }\n",
       "\n",
       "    .dataframe thead th {\n",
       "        text-align: right;\n",
       "    }\n",
       "</style>\n",
       "<table border=\"1\" class=\"dataframe\">\n",
       "  <thead>\n",
       "    <tr style=\"text-align: right;\">\n",
       "      <th>health_status</th>\n",
       "      <th>1</th>\n",
       "      <th>2</th>\n",
       "      <th>3</th>\n",
       "      <th>4</th>\n",
       "      <th>5</th>\n",
       "      <th>7</th>\n",
       "      <th>9</th>\n",
       "    </tr>\n",
       "    <tr>\n",
       "      <th>education_attainment_group</th>\n",
       "      <th></th>\n",
       "      <th></th>\n",
       "      <th></th>\n",
       "      <th></th>\n",
       "      <th></th>\n",
       "      <th></th>\n",
       "      <th></th>\n",
       "    </tr>\n",
       "  </thead>\n",
       "  <tbody>\n",
       "    <tr>\n",
       "      <th>Bachelor's</th>\n",
       "      <td>0.267744</td>\n",
       "      <td>0.404663</td>\n",
       "      <td>0.245115</td>\n",
       "      <td>0.065856</td>\n",
       "      <td>0.016249</td>\n",
       "      <td>0.000286</td>\n",
       "      <td>0.000086</td>\n",
       "    </tr>\n",
       "    <tr>\n",
       "      <th>Graduate/Professional</th>\n",
       "      <td>0.300984</td>\n",
       "      <td>0.408572</td>\n",
       "      <td>0.222071</td>\n",
       "      <td>0.053794</td>\n",
       "      <td>0.014184</td>\n",
       "      <td>0.000220</td>\n",
       "      <td>0.000176</td>\n",
       "    </tr>\n",
       "    <tr>\n",
       "      <th>HS diploma/GED</th>\n",
       "      <td>0.163142</td>\n",
       "      <td>0.289039</td>\n",
       "      <td>0.342490</td>\n",
       "      <td>0.158068</td>\n",
       "      <td>0.046703</td>\n",
       "      <td>0.000239</td>\n",
       "      <td>0.000319</td>\n",
       "    </tr>\n",
       "    <tr>\n",
       "      <th>Less than HS</th>\n",
       "      <td>0.129919</td>\n",
       "      <td>0.189262</td>\n",
       "      <td>0.344034</td>\n",
       "      <td>0.241039</td>\n",
       "      <td>0.095029</td>\n",
       "      <td>0.000239</td>\n",
       "      <td>0.000478</td>\n",
       "    </tr>\n",
       "    <tr>\n",
       "      <th>Some college/AA</th>\n",
       "      <td>0.184579</td>\n",
       "      <td>0.342870</td>\n",
       "      <td>0.310823</td>\n",
       "      <td>0.125036</td>\n",
       "      <td>0.036219</td>\n",
       "      <td>0.000237</td>\n",
       "      <td>0.000237</td>\n",
       "    </tr>\n",
       "    <tr>\n",
       "      <th>Unknown</th>\n",
       "      <td>0.639658</td>\n",
       "      <td>0.223635</td>\n",
       "      <td>0.109977</td>\n",
       "      <td>0.022528</td>\n",
       "      <td>0.003890</td>\n",
       "      <td>0.000235</td>\n",
       "      <td>0.000078</td>\n",
       "    </tr>\n",
       "  </tbody>\n",
       "</table>\n",
       "</div>"
      ],
      "text/plain": [
       "health_status                      1         2         3         4         5  \\\n",
       "education_attainment_group                                                     \n",
       "Bachelor's                  0.267744  0.404663  0.245115  0.065856  0.016249   \n",
       "Graduate/Professional       0.300984  0.408572  0.222071  0.053794  0.014184   \n",
       "HS diploma/GED              0.163142  0.289039  0.342490  0.158068  0.046703   \n",
       "Less than HS                0.129919  0.189262  0.344034  0.241039  0.095029   \n",
       "Some college/AA             0.184579  0.342870  0.310823  0.125036  0.036219   \n",
       "Unknown                     0.639658  0.223635  0.109977  0.022528  0.003890   \n",
       "\n",
       "health_status                      7         9  \n",
       "education_attainment_group                      \n",
       "Bachelor's                  0.000286  0.000086  \n",
       "Graduate/Professional       0.000220  0.000176  \n",
       "HS diploma/GED              0.000239  0.000319  \n",
       "Less than HS                0.000239  0.000478  \n",
       "Some college/AA             0.000237  0.000237  \n",
       "Unknown                     0.000235  0.000078  "
      ]
     },
     "execution_count": 12,
     "metadata": {},
     "output_type": "execute_result"
    }
   ],
   "source": [
    "pd.crosstab(df[\"education_attainment_group\"], df[\"health_status\"], normalize=\"index\")"
   ]
  },
  {
   "cell_type": "code",
   "execution_count": 13,
   "id": "da961dd2-a5f4-42ee-a5f6-3dc225bfb733",
   "metadata": {},
   "outputs": [],
   "source": [
    "import pandas as pd\n",
    "import numpy as np\n",
    "\n"
   ]
  },
  {
   "cell_type": "code",
   "execution_count": 14,
   "id": "2eacd833-054e-404f-b877-95b3f7661850",
   "metadata": {},
   "outputs": [],
   "source": [
    "# use partial/sample-adult if present...if not use the general weight\n",
    "weight_col = \"partial_sample_weight\" if \"partial_sample_weight\" in df.columns else \"sample_weight\"\n"
   ]
  },
  {
   "cell_type": "code",
   "execution_count": 15,
   "id": "d50cf942-4f18-432d-b75d-2c76540abdc8",
   "metadata": {},
   "outputs": [],
   "source": [
    "#Categorize labels"
   ]
  },
  {
   "cell_type": "code",
   "execution_count": 16,
   "id": "ce04041f-98fc-4ffa-a5df-d0c900314dc5",
   "metadata": {},
   "outputs": [],
   "source": [
    "race_labels = {\n",
    "        100: \"White\", 200: \"Black\", 300: \"AIAN\", 400: \"Asian\",\n",
    "        510: \"Other/Multiracial\", 520: \"Other\", 541: \"Multiracial\",\n",
    "        997: \"Unknown-Refused\", 998: \"Unknown-NA\", 999: \"Unknown-DK\"\n",
    "    }\n"
   ]
  },
  {
   "cell_type": "code",
   "execution_count": 17,
   "id": "c205ad76-9154-4e93-9ba9-ebc8e7ac9df9",
   "metadata": {},
   "outputs": [],
   "source": [
    "   df[\"race_grp\"] = df[\"race\"].astype(\"Int64\").map(race_labels).fillna(\"Other/Unknown\")\n"
   ]
  },
  {
   "cell_type": "code",
   "execution_count": 18,
   "id": "194f22ae-df1e-4575-b0c0-a7da2d2f487f",
   "metadata": {},
   "outputs": [
    {
     "data": {
      "text/html": [
       "<div>\n",
       "<style scoped>\n",
       "    .dataframe tbody tr th:only-of-type {\n",
       "        vertical-align: middle;\n",
       "    }\n",
       "\n",
       "    .dataframe tbody tr th {\n",
       "        vertical-align: top;\n",
       "    }\n",
       "\n",
       "    .dataframe thead th {\n",
       "        text-align: right;\n",
       "    }\n",
       "</style>\n",
       "<table border=\"1\" class=\"dataframe\">\n",
       "  <thead>\n",
       "    <tr style=\"text-align: right;\">\n",
       "      <th></th>\n",
       "      <th>race</th>\n",
       "      <th>race_grp</th>\n",
       "    </tr>\n",
       "  </thead>\n",
       "  <tbody>\n",
       "    <tr>\n",
       "      <th>0</th>\n",
       "      <td>100</td>\n",
       "      <td>White</td>\n",
       "    </tr>\n",
       "    <tr>\n",
       "      <th>1</th>\n",
       "      <td>100</td>\n",
       "      <td>White</td>\n",
       "    </tr>\n",
       "    <tr>\n",
       "      <th>2</th>\n",
       "      <td>100</td>\n",
       "      <td>White</td>\n",
       "    </tr>\n",
       "    <tr>\n",
       "      <th>3</th>\n",
       "      <td>100</td>\n",
       "      <td>White</td>\n",
       "    </tr>\n",
       "    <tr>\n",
       "      <th>4</th>\n",
       "      <td>100</td>\n",
       "      <td>White</td>\n",
       "    </tr>\n",
       "    <tr>\n",
       "      <th>5</th>\n",
       "      <td>100</td>\n",
       "      <td>White</td>\n",
       "    </tr>\n",
       "    <tr>\n",
       "      <th>6</th>\n",
       "      <td>100</td>\n",
       "      <td>White</td>\n",
       "    </tr>\n",
       "    <tr>\n",
       "      <th>7</th>\n",
       "      <td>542</td>\n",
       "      <td>Other/Unknown</td>\n",
       "    </tr>\n",
       "    <tr>\n",
       "      <th>8</th>\n",
       "      <td>100</td>\n",
       "      <td>White</td>\n",
       "    </tr>\n",
       "    <tr>\n",
       "      <th>9</th>\n",
       "      <td>200</td>\n",
       "      <td>Black</td>\n",
       "    </tr>\n",
       "  </tbody>\n",
       "</table>\n",
       "</div>"
      ],
      "text/plain": [
       "   race       race_grp\n",
       "0   100          White\n",
       "1   100          White\n",
       "2   100          White\n",
       "3   100          White\n",
       "4   100          White\n",
       "5   100          White\n",
       "6   100          White\n",
       "7   542  Other/Unknown\n",
       "8   100          White\n",
       "9   200          Black"
      ]
     },
     "execution_count": 18,
     "metadata": {},
     "output_type": "execute_result"
    }
   ],
   "source": [
    "df[[\"race\", \"race_grp\"]].head(10)"
   ]
  },
  {
   "cell_type": "code",
   "execution_count": 19,
   "id": "c93d3871-eef1-4603-9682-b30cac142707",
   "metadata": {},
   "outputs": [],
   "source": [
    "meps2020=pd.read_stata(\"data/MEPS_2020.dta\")"
   ]
  },
  {
   "cell_type": "code",
   "execution_count": 20,
   "id": "d5f685f9-ee4b-46be-92ac-a805af1db1ef",
   "metadata": {},
   "outputs": [
    {
     "name": "stdout",
     "output_type": "stream",
     "text": [
      "(27805, 1451)\n"
     ]
    }
   ],
   "source": [
    "print(meps2020.shape)"
   ]
  },
  {
   "cell_type": "code",
   "execution_count": 21,
   "id": "62a0c38b-3943-40f8-9843-932d276472a2",
   "metadata": {
    "scrolled": true
   },
   "outputs": [
    {
     "name": "stdout",
     "output_type": "stream",
     "text": [
      "Index(['DUID', 'PID', 'DUPERSID', 'PANEL', 'FAMID31', 'FAMID42', 'FAMID53',\n",
      "       'FAMID20', 'FAMIDYR', 'CPSFAMID',\n",
      "       ...\n",
      "       'RXOSR20', 'RXPTR20', 'RXOTH20', 'PERWT20F', 'FAMWT20F', 'FAMWT20C',\n",
      "       'SAQWT20F', 'DIABW20F', 'VARSTR', 'VARPSU'],\n",
      "      dtype='object', length=1451)\n"
     ]
    }
   ],
   "source": [
    "print(meps2020.columns)"
   ]
  },
  {
   "cell_type": "code",
   "execution_count": 22,
   "id": "b6186743-1368-4d10-ac1f-7d26285d8942",
   "metadata": {},
   "outputs": [],
   "source": [
    "keep = [\n",
    "    \"DUPERSID\", #Unique Person Identifier\n",
    "    \"PERWT20F\", #tells you how many people in the U.S. the respondent represents         \n",
    "    \"INSCOV20\",  #Insurance Coverage       \n",
    "    \"TOTEXP20\", #Total Health care expenditure in 2020\n",
    "    \"TOTSLF20\", #Total Out of Pocket expenditure in 2020\n",
    "    \"POVCAT20\", #Family Income relative to poverty line        \n",
    "    \"RACEV1X\", #Race\n",
    "     \"HISPANX\",  #Hispanic\n",
    "     \"EDUCYR\", #Years of education completed\n",
    "    \"AGE20X\", #age\n",
    "    \"SEX\", #sex\n",
    "    \"REGION20\" #region\n",
    "]\n"
   ]
  },
  {
   "cell_type": "code",
   "execution_count": 23,
   "id": "7f342192-91f3-47f0-a2cd-07a575c7cf20",
   "metadata": {},
   "outputs": [],
   "source": [
    "keep = [c for c in keep if c in meps2020.columns]"
   ]
  },
  {
   "cell_type": "code",
   "execution_count": 24,
   "id": "4a774d48-bcb0-482a-973c-4852789ba14f",
   "metadata": {},
   "outputs": [],
   "source": [
    "meps2020 = meps2020[keep].copy()"
   ]
  },
  {
   "cell_type": "code",
   "execution_count": 25,
   "id": "8e1253f5-6e9c-4144-bdf6-7d6704066a1d",
   "metadata": {},
   "outputs": [
    {
     "name": "stdout",
     "output_type": "stream",
     "text": [
      "Index(['DUPERSID', 'PERWT20F', 'INSCOV20', 'TOTEXP20', 'TOTSLF20', 'POVCAT20',\n",
      "       'RACEV1X', 'HISPANX', 'EDUCYR', 'AGE20X', 'SEX', 'REGION20'],\n",
      "      dtype='object')\n"
     ]
    }
   ],
   "source": [
    "print(meps2020.columns)"
   ]
  },
  {
   "cell_type": "code",
   "execution_count": 26,
   "id": "2ab0c290-429c-4f58-a629-aa07db8a9e61",
   "metadata": {},
   "outputs": [
    {
     "data": {
      "text/html": [
       "<div>\n",
       "<style scoped>\n",
       "    .dataframe tbody tr th:only-of-type {\n",
       "        vertical-align: middle;\n",
       "    }\n",
       "\n",
       "    .dataframe tbody tr th {\n",
       "        vertical-align: top;\n",
       "    }\n",
       "\n",
       "    .dataframe thead th {\n",
       "        text-align: right;\n",
       "    }\n",
       "</style>\n",
       "<table border=\"1\" class=\"dataframe\">\n",
       "  <thead>\n",
       "    <tr style=\"text-align: right;\">\n",
       "      <th></th>\n",
       "      <th>DUPERSID</th>\n",
       "      <th>PERWT20F</th>\n",
       "      <th>INSCOV20</th>\n",
       "      <th>TOTEXP20</th>\n",
       "      <th>TOTSLF20</th>\n",
       "      <th>POVCAT20</th>\n",
       "      <th>RACEV1X</th>\n",
       "      <th>HISPANX</th>\n",
       "      <th>EDUCYR</th>\n",
       "      <th>AGE20X</th>\n",
       "      <th>SEX</th>\n",
       "      <th>REGION20</th>\n",
       "    </tr>\n",
       "  </thead>\n",
       "  <tbody>\n",
       "    <tr>\n",
       "      <th>0</th>\n",
       "      <td>2320005101</td>\n",
       "      <td>8418.417067</td>\n",
       "      <td>2 PUBLIC ONLY</td>\n",
       "      <td>459</td>\n",
       "      <td>41</td>\n",
       "      <td>2 NEAR POOR</td>\n",
       "      <td>1 WHITE - NO OTHER RACE REPORTED</td>\n",
       "      <td>2 NOT HISPANIC</td>\n",
       "      <td>14 2 YEARS COLLEGE</td>\n",
       "      <td>73</td>\n",
       "      <td>2 FEMALE</td>\n",
       "      <td>1 NORTHEAST</td>\n",
       "    </tr>\n",
       "    <tr>\n",
       "      <th>1</th>\n",
       "      <td>2320005102</td>\n",
       "      <td>5199.931866</td>\n",
       "      <td>2 PUBLIC ONLY</td>\n",
       "      <td>564</td>\n",
       "      <td>50</td>\n",
       "      <td>2 NEAR POOR</td>\n",
       "      <td>1 WHITE - NO OTHER RACE REPORTED</td>\n",
       "      <td>2 NOT HISPANIC</td>\n",
       "      <td>12 GRADE 12</td>\n",
       "      <td>84</td>\n",
       "      <td>1 MALE</td>\n",
       "      <td>1 NORTHEAST</td>\n",
       "    </tr>\n",
       "    <tr>\n",
       "      <th>2</th>\n",
       "      <td>2320006101</td>\n",
       "      <td>2139.840017</td>\n",
       "      <td>3 UNINSURED</td>\n",
       "      <td>140</td>\n",
       "      <td>140</td>\n",
       "      <td>3 LOW INCOME</td>\n",
       "      <td>1 WHITE - NO OTHER RACE REPORTED</td>\n",
       "      <td>1 HISPANIC</td>\n",
       "      <td>12 GRADE 12</td>\n",
       "      <td>47</td>\n",
       "      <td>2 FEMALE</td>\n",
       "      <td>3 SOUTH</td>\n",
       "    </tr>\n",
       "    <tr>\n",
       "      <th>3</th>\n",
       "      <td>2320006102</td>\n",
       "      <td>2216.008686</td>\n",
       "      <td>3 UNINSURED</td>\n",
       "      <td>4673</td>\n",
       "      <td>0</td>\n",
       "      <td>1 POOR/NEGATIVE</td>\n",
       "      <td>1 WHITE - NO OTHER RACE REPORTED</td>\n",
       "      <td>1 HISPANIC</td>\n",
       "      <td>11</td>\n",
       "      <td>22</td>\n",
       "      <td>1 MALE</td>\n",
       "      <td>3 SOUTH</td>\n",
       "    </tr>\n",
       "    <tr>\n",
       "      <th>4</th>\n",
       "      <td>2320006103</td>\n",
       "      <td>4157.285889</td>\n",
       "      <td>2 PUBLIC ONLY</td>\n",
       "      <td>410</td>\n",
       "      <td>0</td>\n",
       "      <td>3 LOW INCOME</td>\n",
       "      <td>1 WHITE - NO OTHER RACE REPORTED</td>\n",
       "      <td>1 HISPANIC</td>\n",
       "      <td>11</td>\n",
       "      <td>21</td>\n",
       "      <td>1 MALE</td>\n",
       "      <td>3 SOUTH</td>\n",
       "    </tr>\n",
       "  </tbody>\n",
       "</table>\n",
       "</div>"
      ],
      "text/plain": [
       "     DUPERSID     PERWT20F       INSCOV20  TOTEXP20  TOTSLF20  \\\n",
       "0  2320005101  8418.417067  2 PUBLIC ONLY       459        41   \n",
       "1  2320005102  5199.931866  2 PUBLIC ONLY       564        50   \n",
       "2  2320006101  2139.840017    3 UNINSURED       140       140   \n",
       "3  2320006102  2216.008686    3 UNINSURED      4673         0   \n",
       "4  2320006103  4157.285889  2 PUBLIC ONLY       410         0   \n",
       "\n",
       "          POVCAT20                           RACEV1X         HISPANX  \\\n",
       "0      2 NEAR POOR  1 WHITE - NO OTHER RACE REPORTED  2 NOT HISPANIC   \n",
       "1      2 NEAR POOR  1 WHITE - NO OTHER RACE REPORTED  2 NOT HISPANIC   \n",
       "2     3 LOW INCOME  1 WHITE - NO OTHER RACE REPORTED      1 HISPANIC   \n",
       "3  1 POOR/NEGATIVE  1 WHITE - NO OTHER RACE REPORTED      1 HISPANIC   \n",
       "4     3 LOW INCOME  1 WHITE - NO OTHER RACE REPORTED      1 HISPANIC   \n",
       "\n",
       "               EDUCYR  AGE20X       SEX     REGION20  \n",
       "0  14 2 YEARS COLLEGE      73  2 FEMALE  1 NORTHEAST  \n",
       "1         12 GRADE 12      84    1 MALE  1 NORTHEAST  \n",
       "2         12 GRADE 12      47  2 FEMALE      3 SOUTH  \n",
       "3                  11      22    1 MALE      3 SOUTH  \n",
       "4                  11      21    1 MALE      3 SOUTH  "
      ]
     },
     "execution_count": 26,
     "metadata": {},
     "output_type": "execute_result"
    }
   ],
   "source": [
    "meps2020.head()"
   ]
  },
  {
   "cell_type": "code",
   "execution_count": 27,
   "id": "23910844-d03e-411c-8ae8-08cabb7bbd6c",
   "metadata": {},
   "outputs": [
    {
     "name": "stdout",
     "output_type": "stream",
     "text": [
      "<class 'pandas.core.frame.DataFrame'>\n",
      "RangeIndex: 27805 entries, 0 to 27804\n",
      "Data columns (total 12 columns):\n",
      " #   Column    Non-Null Count  Dtype   \n",
      "---  ------    --------------  -----   \n",
      " 0   DUPERSID  27805 non-null  object  \n",
      " 1   PERWT20F  27805 non-null  float64 \n",
      " 2   INSCOV20  27805 non-null  category\n",
      " 3   TOTEXP20  27805 non-null  int32   \n",
      " 4   TOTSLF20  27805 non-null  int32   \n",
      " 5   POVCAT20  27805 non-null  category\n",
      " 6   RACEV1X   27805 non-null  category\n",
      " 7   HISPANX   27805 non-null  category\n",
      " 8   EDUCYR    27805 non-null  category\n",
      " 9   AGE20X    27805 non-null  int8    \n",
      " 10  SEX       27805 non-null  category\n",
      " 11  REGION20  27805 non-null  category\n",
      "dtypes: category(7), float64(1), int32(2), int8(1), object(1)\n",
      "memory usage: 870.7+ KB\n"
     ]
    }
   ],
   "source": [
    "meps2020.info()"
   ]
  },
  {
   "cell_type": "code",
   "execution_count": 28,
   "id": "734efdf1-e902-42c6-b25f-a0d85b5be356",
   "metadata": {},
   "outputs": [],
   "source": [
    "import numpy as np"
   ]
  },
  {
   "cell_type": "code",
   "execution_count": 29,
   "id": "535909c3-2e9c-421c-bbff-f755a14c123f",
   "metadata": {},
   "outputs": [],
   "source": [
    "meps_weighted_value = \"PERWT20F\" #tells you how many people in the U.S. the respondent represents  "
   ]
  },
  {
   "cell_type": "code",
   "execution_count": 30,
   "id": "67be6cae-3874-4238-9449-0d87acd5441e",
   "metadata": {},
   "outputs": [],
   "source": [
    "outofpocket_costs=\"TOTSLF20\" "
   ]
  },
  {
   "cell_type": "code",
   "execution_count": 31,
   "id": "a23a6647-9281-4fc2-bae8-197b0e2a50ea",
   "metadata": {},
   "outputs": [],
   "source": [
    "#Creating a new column to simply determine is person is unisured "
   ]
  },
  {
   "cell_type": "code",
   "execution_count": 32,
   "id": "5080f629-3233-4515-b03d-61587036515d",
   "metadata": {},
   "outputs": [],
   "source": [
    "uninsured = meps2020[\"INSCOV20\"].astype(str).str.upper()\n"
   ]
  },
  {
   "cell_type": "code",
   "execution_count": 33,
   "id": "cd115476-6945-4f93-abbf-c175ebee6d05",
   "metadata": {},
   "outputs": [],
   "source": [
    "meps2020[\"uninsured\"] = np.where(uninsured.str.contains(\"UNINSURED\") | uninsured.str.startswith(\"3\"), 1.0, 0.0)\n"
   ]
  },
  {
   "cell_type": "code",
   "execution_count": 34,
   "id": "4d461b0b-26bc-42a0-9dd8-3c932b64372a",
   "metadata": {},
   "outputs": [],
   "source": [
    "#1 means person is uninsured and 0 means person is insured"
   ]
  },
  {
   "cell_type": "code",
   "execution_count": 35,
   "id": "87a37a92-919d-4521-a43f-aaa0935d39fd",
   "metadata": {},
   "outputs": [
    {
     "data": {
      "text/plain": [
       "0        1 WHITE - NO OTHER RACE REPORTED\n",
       "1        1 WHITE - NO OTHER RACE REPORTED\n",
       "2        1 WHITE - NO OTHER RACE REPORTED\n",
       "3        1 WHITE - NO OTHER RACE REPORTED\n",
       "4        1 WHITE - NO OTHER RACE REPORTED\n",
       "                       ...               \n",
       "27800    2 BLACK - NO OTHER RACE REPORTED\n",
       "27801    2 BLACK - NO OTHER RACE REPORTED\n",
       "27802    2 BLACK - NO OTHER RACE REPORTED\n",
       "27803    2 BLACK - NO OTHER RACE REPORTED\n",
       "27804    2 BLACK - NO OTHER RACE REPORTED\n",
       "Name: RACEV1X, Length: 27805, dtype: category\n",
       "Categories (5, object): ['1 WHITE - NO OTHER RACE REPORTED' < '2 BLACK - NO OTHER RACE REPORTED' < '3 AMER INDIAN/ALASKA NATIVE - NO OTHER RACE' < '4 ASIAN/NATV HAWAIIAN/PACFC ISL-NO OTH' < '6 MULTIPLE RACES REPORTED']"
      ]
     },
     "execution_count": 35,
     "metadata": {},
     "output_type": "execute_result"
    }
   ],
   "source": [
    " meps2020[\"RACEV1X\"]"
   ]
  },
  {
   "cell_type": "code",
   "execution_count": 36,
   "id": "1e4b669b-302a-46ad-a5e3-d9abb14b9da2",
   "metadata": {},
   "outputs": [],
   "source": [
    "meps2020[\"race\"] = meps2020[\"RACEV1X\"].str.extract(r\"^\\s*(\\d+)\")[0].map({\n",
    "    \"1\": \"White\",\n",
    "    \"2\": \"Black\",\n",
    "    \"3\": \"AIAN\",\n",
    "    \"4\": \"Asian/NHPI\",\n",
    "    \"6\": \"Multiple\"\n",
    "})"
   ]
  },
  {
   "cell_type": "code",
   "execution_count": 37,
   "id": "1298ca77-67bc-4db7-b29e-8ef999880bb7",
   "metadata": {},
   "outputs": [
    {
     "name": "stdout",
     "output_type": "stream",
     "text": [
      "race\n",
      "White         20865\n",
      "Black          4124\n",
      "Asian/NHPI     1587\n",
      "Multiple       1008\n",
      "AIAN            221\n",
      "Name: count, dtype: int64\n"
     ]
    }
   ],
   "source": [
    "print(meps2020[\"race\"].value_counts())"
   ]
  },
  {
   "cell_type": "code",
   "execution_count": 38,
   "id": "278b995e-8216-4aed-b188-3fdff1c5ebaa",
   "metadata": {},
   "outputs": [],
   "source": [
    "meps2020[\"INSCOV20\"]=meps2020[\"INSCOV20\"].str.extract(r\"^\\s*(\\d+)\")[0].map({\n",
    "    \"1\": \"Private\",\n",
    "    \"2\": \"Public\",\n",
    "    \"3\": \"Uninsured\"})"
   ]
  },
  {
   "cell_type": "code",
   "execution_count": 39,
   "id": "0d8c59b8-1d68-40a5-893c-fbeeddea2b4a",
   "metadata": {},
   "outputs": [
    {
     "name": "stdout",
     "output_type": "stream",
     "text": [
      "INSCOV20\n",
      "Private      16056\n",
      "Public        9539\n",
      "Uninsured     2210\n",
      "Name: count, dtype: int64\n"
     ]
    }
   ],
   "source": [
    "print(meps2020[\"INSCOV20\"].value_counts())"
   ]
  },
  {
   "cell_type": "code",
   "execution_count": 40,
   "id": "8a952f2b-665b-4761-9e94-0b9c9953896c",
   "metadata": {},
   "outputs": [],
   "source": [
    "meps2020[\"Coverage\"]=meps2020[\"INSCOV20\"]"
   ]
  },
  {
   "cell_type": "code",
   "execution_count": 41,
   "id": "603cd33f-4a7d-41e4-ae8c-bde7b48ecbfc",
   "metadata": {},
   "outputs": [
    {
     "name": "stdout",
     "output_type": "stream",
     "text": [
      "    INSCOV20   Coverage\n",
      "0     Public     Public\n",
      "1     Public     Public\n",
      "2  Uninsured  Uninsured\n",
      "3  Uninsured  Uninsured\n",
      "4     Public     Public\n"
     ]
    }
   ],
   "source": [
    "print(meps2020[[\"INSCOV20\", \"Coverage\"]].head())"
   ]
  },
  {
   "cell_type": "code",
   "execution_count": 42,
   "id": "fec6a819-e41c-423d-800d-2e34a3c18965",
   "metadata": {},
   "outputs": [],
   "source": [
    "meps2020[\"coverage_status\"]=meps2020[\"INSCOV20\"].map({\n",
    "    \"Private\":\"Insured\", \"Public\":\"Insured\", \"Uninsured\": \"Uninsured\"})"
   ]
  },
  {
   "cell_type": "code",
   "execution_count": 43,
   "id": "72d21bd9-d761-482d-ad79-4c4855e5389c",
   "metadata": {},
   "outputs": [],
   "source": [
    "#EDUCYR into categories"
   ]
  },
  {
   "cell_type": "code",
   "execution_count": 44,
   "id": "93cb866a-63f5-4e94-a348-8466baba97b7",
   "metadata": {},
   "outputs": [],
   "source": [
    "edu_group = []"
   ]
  },
  {
   "cell_type": "code",
   "execution_count": 45,
   "id": "d39dca72-011d-41b9-ab1c-0a274636da09",
   "metadata": {},
   "outputs": [],
   "source": [
    "meps2020[\"EDUCYR_num\"] = (\n",
    "    meps2020[\"EDUCYR\"].astype(str).str.extract(r'(\\d+)')[0].astype(float)\n",
    ") #getting the number of years and leaving out the text to make them into groups\n"
   ]
  },
  {
   "cell_type": "code",
   "execution_count": 46,
   "id": "c6aefa9b-3620-4990-ba05-c07438563bb5",
   "metadata": {},
   "outputs": [],
   "source": [
    " #Creating groups for education"
   ]
  },
  {
   "cell_type": "code",
   "execution_count": 47,
   "id": "144ffea2-41b5-446a-9319-76ee480665f9",
   "metadata": {},
   "outputs": [],
   "source": [
    "def categorize_edu(years):\n",
    "    if pd.isna(years):\n",
    "        return \"N/A\"\n",
    "    elif years == 12:\n",
    "        return \"High School\"\n",
    "    elif 13 <= years <= 15:\n",
    "        return \"Some College\"\n",
    "    elif years == 16:\n",
    "        return \"Bachelor's\"\n",
    "    elif years >16:\n",
    "        return \"Graduate/Professional\"\n",
    "    else:\n",
    "        return \"High School Not Completed\"\n",
    "\n"
   ]
  },
  {
   "cell_type": "code",
   "execution_count": 48,
   "id": "1accd4ea-5ced-4b78-b269-6039ebaaf96e",
   "metadata": {},
   "outputs": [],
   "source": [
    "meps2020[\"edu_group\"] = meps2020[\"EDUCYR_num\"].apply(categorize_edu)\n"
   ]
  },
  {
   "cell_type": "code",
   "execution_count": 49,
   "id": "8ca7948b-55c8-4459-94d0-72fe3b8f03c6",
   "metadata": {
    "scrolled": true
   },
   "outputs": [
    {
     "data": {
      "text/html": [
       "<div>\n",
       "<style scoped>\n",
       "    .dataframe tbody tr th:only-of-type {\n",
       "        vertical-align: middle;\n",
       "    }\n",
       "\n",
       "    .dataframe tbody tr th {\n",
       "        vertical-align: top;\n",
       "    }\n",
       "\n",
       "    .dataframe thead th {\n",
       "        text-align: right;\n",
       "    }\n",
       "</style>\n",
       "<table border=\"1\" class=\"dataframe\">\n",
       "  <thead>\n",
       "    <tr style=\"text-align: right;\">\n",
       "      <th></th>\n",
       "      <th>DUPERSID</th>\n",
       "      <th>PERWT20F</th>\n",
       "      <th>INSCOV20</th>\n",
       "      <th>TOTEXP20</th>\n",
       "      <th>TOTSLF20</th>\n",
       "      <th>POVCAT20</th>\n",
       "      <th>RACEV1X</th>\n",
       "      <th>HISPANX</th>\n",
       "      <th>EDUCYR</th>\n",
       "      <th>AGE20X</th>\n",
       "      <th>SEX</th>\n",
       "      <th>REGION20</th>\n",
       "      <th>uninsured</th>\n",
       "      <th>race</th>\n",
       "      <th>Coverage</th>\n",
       "      <th>coverage_status</th>\n",
       "      <th>EDUCYR_num</th>\n",
       "      <th>edu_group</th>\n",
       "    </tr>\n",
       "  </thead>\n",
       "  <tbody>\n",
       "    <tr>\n",
       "      <th>0</th>\n",
       "      <td>2320005101</td>\n",
       "      <td>8418.417067</td>\n",
       "      <td>Public</td>\n",
       "      <td>459</td>\n",
       "      <td>41</td>\n",
       "      <td>2 NEAR POOR</td>\n",
       "      <td>1 WHITE - NO OTHER RACE REPORTED</td>\n",
       "      <td>2 NOT HISPANIC</td>\n",
       "      <td>14 2 YEARS COLLEGE</td>\n",
       "      <td>73</td>\n",
       "      <td>2 FEMALE</td>\n",
       "      <td>1 NORTHEAST</td>\n",
       "      <td>0.0</td>\n",
       "      <td>White</td>\n",
       "      <td>Public</td>\n",
       "      <td>Insured</td>\n",
       "      <td>14.0</td>\n",
       "      <td>Some College</td>\n",
       "    </tr>\n",
       "    <tr>\n",
       "      <th>1</th>\n",
       "      <td>2320005102</td>\n",
       "      <td>5199.931866</td>\n",
       "      <td>Public</td>\n",
       "      <td>564</td>\n",
       "      <td>50</td>\n",
       "      <td>2 NEAR POOR</td>\n",
       "      <td>1 WHITE - NO OTHER RACE REPORTED</td>\n",
       "      <td>2 NOT HISPANIC</td>\n",
       "      <td>12 GRADE 12</td>\n",
       "      <td>84</td>\n",
       "      <td>1 MALE</td>\n",
       "      <td>1 NORTHEAST</td>\n",
       "      <td>0.0</td>\n",
       "      <td>White</td>\n",
       "      <td>Public</td>\n",
       "      <td>Insured</td>\n",
       "      <td>12.0</td>\n",
       "      <td>High School</td>\n",
       "    </tr>\n",
       "    <tr>\n",
       "      <th>2</th>\n",
       "      <td>2320006101</td>\n",
       "      <td>2139.840017</td>\n",
       "      <td>Uninsured</td>\n",
       "      <td>140</td>\n",
       "      <td>140</td>\n",
       "      <td>3 LOW INCOME</td>\n",
       "      <td>1 WHITE - NO OTHER RACE REPORTED</td>\n",
       "      <td>1 HISPANIC</td>\n",
       "      <td>12 GRADE 12</td>\n",
       "      <td>47</td>\n",
       "      <td>2 FEMALE</td>\n",
       "      <td>3 SOUTH</td>\n",
       "      <td>1.0</td>\n",
       "      <td>White</td>\n",
       "      <td>Uninsured</td>\n",
       "      <td>Uninsured</td>\n",
       "      <td>12.0</td>\n",
       "      <td>High School</td>\n",
       "    </tr>\n",
       "    <tr>\n",
       "      <th>3</th>\n",
       "      <td>2320006102</td>\n",
       "      <td>2216.008686</td>\n",
       "      <td>Uninsured</td>\n",
       "      <td>4673</td>\n",
       "      <td>0</td>\n",
       "      <td>1 POOR/NEGATIVE</td>\n",
       "      <td>1 WHITE - NO OTHER RACE REPORTED</td>\n",
       "      <td>1 HISPANIC</td>\n",
       "      <td>11</td>\n",
       "      <td>22</td>\n",
       "      <td>1 MALE</td>\n",
       "      <td>3 SOUTH</td>\n",
       "      <td>1.0</td>\n",
       "      <td>White</td>\n",
       "      <td>Uninsured</td>\n",
       "      <td>Uninsured</td>\n",
       "      <td>11.0</td>\n",
       "      <td>High School Not Completed</td>\n",
       "    </tr>\n",
       "    <tr>\n",
       "      <th>4</th>\n",
       "      <td>2320006103</td>\n",
       "      <td>4157.285889</td>\n",
       "      <td>Public</td>\n",
       "      <td>410</td>\n",
       "      <td>0</td>\n",
       "      <td>3 LOW INCOME</td>\n",
       "      <td>1 WHITE - NO OTHER RACE REPORTED</td>\n",
       "      <td>1 HISPANIC</td>\n",
       "      <td>11</td>\n",
       "      <td>21</td>\n",
       "      <td>1 MALE</td>\n",
       "      <td>3 SOUTH</td>\n",
       "      <td>0.0</td>\n",
       "      <td>White</td>\n",
       "      <td>Public</td>\n",
       "      <td>Insured</td>\n",
       "      <td>11.0</td>\n",
       "      <td>High School Not Completed</td>\n",
       "    </tr>\n",
       "  </tbody>\n",
       "</table>\n",
       "</div>"
      ],
      "text/plain": [
       "     DUPERSID     PERWT20F   INSCOV20  TOTEXP20  TOTSLF20         POVCAT20  \\\n",
       "0  2320005101  8418.417067     Public       459        41      2 NEAR POOR   \n",
       "1  2320005102  5199.931866     Public       564        50      2 NEAR POOR   \n",
       "2  2320006101  2139.840017  Uninsured       140       140     3 LOW INCOME   \n",
       "3  2320006102  2216.008686  Uninsured      4673         0  1 POOR/NEGATIVE   \n",
       "4  2320006103  4157.285889     Public       410         0     3 LOW INCOME   \n",
       "\n",
       "                            RACEV1X         HISPANX              EDUCYR  \\\n",
       "0  1 WHITE - NO OTHER RACE REPORTED  2 NOT HISPANIC  14 2 YEARS COLLEGE   \n",
       "1  1 WHITE - NO OTHER RACE REPORTED  2 NOT HISPANIC         12 GRADE 12   \n",
       "2  1 WHITE - NO OTHER RACE REPORTED      1 HISPANIC         12 GRADE 12   \n",
       "3  1 WHITE - NO OTHER RACE REPORTED      1 HISPANIC                  11   \n",
       "4  1 WHITE - NO OTHER RACE REPORTED      1 HISPANIC                  11   \n",
       "\n",
       "   AGE20X       SEX     REGION20  uninsured   race   Coverage coverage_status  \\\n",
       "0      73  2 FEMALE  1 NORTHEAST        0.0  White     Public         Insured   \n",
       "1      84    1 MALE  1 NORTHEAST        0.0  White     Public         Insured   \n",
       "2      47  2 FEMALE      3 SOUTH        1.0  White  Uninsured       Uninsured   \n",
       "3      22    1 MALE      3 SOUTH        1.0  White  Uninsured       Uninsured   \n",
       "4      21    1 MALE      3 SOUTH        0.0  White     Public         Insured   \n",
       "\n",
       "   EDUCYR_num                  edu_group  \n",
       "0        14.0               Some College  \n",
       "1        12.0                High School  \n",
       "2        12.0                High School  \n",
       "3        11.0  High School Not Completed  \n",
       "4        11.0  High School Not Completed  "
      ]
     },
     "execution_count": 49,
     "metadata": {},
     "output_type": "execute_result"
    }
   ],
   "source": [
    "meps2020.head()"
   ]
  },
  {
   "cell_type": "code",
   "execution_count": 50,
   "id": "f9f55651-03f3-4f5e-979f-f9e8b319749a",
   "metadata": {},
   "outputs": [
    {
     "data": {
      "text/plain": [
       "edu_group\n",
       "High School Not Completed    9660\n",
       "High School                  6421\n",
       "Some College                 4879\n",
       "Bachelor's                   4061\n",
       "Graduate/Professional        2784\n",
       "Name: count, dtype: int64"
      ]
     },
     "execution_count": 50,
     "metadata": {},
     "output_type": "execute_result"
    }
   ],
   "source": [
    "meps2020[\"edu_group\"].value_counts()"
   ]
  },
  {
   "cell_type": "code",
   "execution_count": 51,
   "id": "a4d4c3c2-e206-4eeb-8f1f-195eb6d0351f",
   "metadata": {},
   "outputs": [],
   "source": [
    "insc_edu = (\n",
    "    meps2020.groupby([\"edu_group\", \"Coverage\"], as_index=False)[meps_weighted_value]\n",
    "            .sum()\n",
    "            .rename(columns={meps_weighted_value: \"weighted_count\"}))"
   ]
  },
  {
   "cell_type": "code",
   "execution_count": 52,
   "id": "216d6204-7c75-4d24-a675-9bb6d60f3c58",
   "metadata": {},
   "outputs": [],
   "source": [
    "totals = (insc_edu.groupby(\"edu_group\", as_index=False)[\"weighted_count\"]\n",
    "                  .sum()\n",
    "                  .rename(columns={\"weighted_count\": \"group_total\"}))"
   ]
  },
  {
   "cell_type": "code",
   "execution_count": 53,
   "id": "295e7846-8068-49f0-b2b1-5cbc9001e2bf",
   "metadata": {},
   "outputs": [],
   "source": [
    "insc_edu = insc_edu.merge(totals, on=\"edu_group\", how=\"left\")"
   ]
  },
  {
   "cell_type": "code",
   "execution_count": 54,
   "id": "a9cd4a2a-c929-4c6f-af20-281e2fcb6a14",
   "metadata": {},
   "outputs": [],
   "source": [
    "insc_edu[\"prop\"] = insc_edu[\"weighted_count\"] / insc_edu[\"group_total\"]"
   ]
  },
  {
   "cell_type": "code",
   "execution_count": 55,
   "id": "0b62f4c5-7886-4ba9-98fa-6d78d1553981",
   "metadata": {},
   "outputs": [],
   "source": [
    "insc_edu[\"percentage\"]  = (insc_edu[\"prop\"] * 100).round(1)"
   ]
  },
  {
   "cell_type": "code",
   "execution_count": 56,
   "id": "a82af173-6d86-4085-8c12-7f5693ca628a",
   "metadata": {},
   "outputs": [],
   "source": [
    "edu_order = [\n",
    "    \"High School Not Completed\",\n",
    "    \"High School\",\n",
    "    \"Some College\",\n",
    "    \"Bachelor's\",\n",
    "   \"Graduate/Professional\",\n",
    "]"
   ]
  },
  {
   "cell_type": "code",
   "execution_count": 57,
   "id": "d78135ef-429e-4579-be05-3e747f009ef4",
   "metadata": {},
   "outputs": [],
   "source": [
    "coverage_order=[\"Private\",\"Public\", \"Uninsured\"]"
   ]
  },
  {
   "cell_type": "code",
   "execution_count": 58,
   "id": "939093c7-8d66-4f02-85f6-f601ec9a81cc",
   "metadata": {},
   "outputs": [],
   "source": [
    "insc_edu[\"edu_group\"] = pd.Categorical(insc_edu[\"edu_group\"], categories=edu_order, ordered=True)"
   ]
  },
  {
   "cell_type": "code",
   "execution_count": 59,
   "id": "53c5583b-05b5-43a5-99d5-d6bd84b7c9da",
   "metadata": {},
   "outputs": [
    {
     "name": "stdout",
     "output_type": "stream",
     "text": [
      "                   edu_group   Coverage  weighted_count   group_total  \\\n",
      "0                 Bachelor's    Private    4.427975e+07  5.359325e+07   \n",
      "1                 Bachelor's     Public    7.119662e+06  5.359325e+07   \n",
      "2                 Bachelor's  Uninsured    2.193835e+06  5.359325e+07   \n",
      "3      Graduate/Professional    Private    3.041849e+07  3.554081e+07   \n",
      "4      Graduate/Professional     Public    4.534115e+06  3.554081e+07   \n",
      "5      Graduate/Professional  Uninsured    5.882121e+05  3.554081e+07   \n",
      "6                High School    Private    4.040764e+07  6.951638e+07   \n",
      "7                High School     Public    2.221755e+07  6.951638e+07   \n",
      "8                High School  Uninsured    6.891200e+06  6.951638e+07   \n",
      "9  High School Not Completed    Private    5.702646e+07  1.059645e+08   \n",
      "\n",
      "       prop  percentage  \n",
      "0  0.826219        82.6  \n",
      "1  0.132846        13.3  \n",
      "2  0.040935         4.1  \n",
      "3  0.855875        85.6  \n",
      "4  0.127575        12.8  \n",
      "5  0.016550         1.7  \n",
      "6  0.581268        58.1  \n",
      "7  0.319602        32.0  \n",
      "8  0.099131         9.9  \n",
      "9  0.538166        53.8  \n"
     ]
    }
   ],
   "source": [
    "print(insc_edu.head(10))"
   ]
  },
  {
   "cell_type": "code",
   "execution_count": 60,
   "id": "c9629f7b-1a20-4d55-965c-5cb371e16f50",
   "metadata": {},
   "outputs": [
    {
     "name": "stdout",
     "output_type": "stream",
     "text": [
      "edu_group\n",
      "High School Not Completed    1.0\n",
      "High School                  1.0\n",
      "Some College                 1.0\n",
      "Bachelor's                   1.0\n",
      "Graduate/Professional        1.0\n",
      "Name: prop, dtype: float64\n"
     ]
    },
    {
     "name": "stderr",
     "output_type": "stream",
     "text": [
      "C:\\Users\\mahi0\\AppData\\Local\\Temp\\ipykernel_2616\\3377824952.py:1: FutureWarning: The default of observed=False is deprecated and will be changed to True in a future version of pandas. Pass observed=False to retain current behavior or observed=True to adopt the future default and silence this warning.\n",
      "  print(insc_edu.groupby(\"edu_group\")[\"prop\"].sum())\n"
     ]
    }
   ],
   "source": [
    "print(insc_edu.groupby(\"edu_group\")[\"prop\"].sum())"
   ]
  },
  {
   "cell_type": "code",
   "execution_count": 61,
   "id": "95c35fcb-6896-4e56-8718-64aae2788bc5",
   "metadata": {},
   "outputs": [],
   "source": [
    "inscedutwo = insc_edu[[\"edu_group\",\"Coverage\",\n",
    "                   \"weighted_count\",\"group_total\",\"prop\"]].copy()\n"
   ]
  },
  {
   "cell_type": "code",
   "execution_count": 62,
   "id": "643bd92e-b40c-47e3-a13f-82c6583ea157",
   "metadata": {},
   "outputs": [],
   "source": [
    "inscedutwo.to_csv(\"meps_coverage_by_education.csv\", index=False)\n"
   ]
  },
  {
   "cell_type": "code",
   "execution_count": 63,
   "id": "af3ea040-7497-4172-b8eb-a3694d7c766a",
   "metadata": {},
   "outputs": [
    {
     "data": {
      "text/plain": [
       "edu_group\n",
       "Bachelor's                   49.764344\n",
       "Graduate/Professional        54.255388\n",
       "High School                  49.698645\n",
       "High School Not Completed    23.805072\n",
       "Some College                 49.144497\n",
       "Name: AGE20X, dtype: float64"
      ]
     },
     "execution_count": 63,
     "metadata": {},
     "output_type": "execute_result"
    }
   ],
   "source": [
    "meps2020.groupby(\"edu_group\")[\"AGE20X\"].mean()"
   ]
  },
  {
   "cell_type": "code",
   "execution_count": 64,
   "id": "9e3d6d5a-d5bd-4539-a148-1c4e33e5b2e7",
   "metadata": {},
   "outputs": [
    {
     "data": {
      "text/plain": [
       "edu_group                  POVCAT20       \n",
       "Bachelor's                 5 HIGH INCOME      2432\n",
       "                           4 MIDDLE INCOME    1037\n",
       "                           3 LOW INCOME        291\n",
       "                           1 POOR/NEGATIVE     215\n",
       "                           2 NEAR POOR          86\n",
       "Graduate/Professional      5 HIGH INCOME      2063\n",
       "                           4 MIDDLE INCOME     451\n",
       "                           3 LOW INCOME        142\n",
       "                           1 POOR/NEGATIVE      89\n",
       "                           2 NEAR POOR          39\n",
       "High School                4 MIDDLE INCOME    2006\n",
       "                           5 HIGH INCOME      1721\n",
       "                           1 POOR/NEGATIVE    1188\n",
       "                           3 LOW INCOME       1146\n",
       "                           2 NEAR POOR         360\n",
       "High School Not Completed  1 POOR/NEGATIVE    2599\n",
       "                           4 MIDDLE INCOME    2511\n",
       "                           5 HIGH INCOME      2046\n",
       "                           3 LOW INCOME       1828\n",
       "                           2 NEAR POOR         676\n",
       "Some College               5 HIGH INCOME      1775\n",
       "                           4 MIDDLE INCOME    1612\n",
       "                           3 LOW INCOME        689\n",
       "                           1 POOR/NEGATIVE     592\n",
       "                           2 NEAR POOR         211\n",
       "Name: count, dtype: int64"
      ]
     },
     "execution_count": 64,
     "metadata": {},
     "output_type": "execute_result"
    }
   ],
   "source": [
    "meps2020.groupby(\"edu_group\")[\"POVCAT20\"].value_counts()"
   ]
  },
  {
   "cell_type": "code",
   "execution_count": 65,
   "id": "d478aa8e-75fd-4eaf-a307-92a78ef10a8b",
   "metadata": {},
   "outputs": [],
   "source": [
    "edu_income_ = (\n",
    "    meps2020.groupby(\"edu_group\")[\"POVCAT20\"]\n",
    "    .value_counts()\n",
    "    .rename(\"count\")\n",
    "    .reset_index()\n",
    ")"
   ]
  },
  {
   "cell_type": "code",
   "execution_count": 66,
   "id": "fc65d299-80dc-4010-8016-67dbda0e6669",
   "metadata": {},
   "outputs": [],
   "source": [
    "code = (\n",
    "    edu_income_[\"POVCAT20\"]\n",
    "    .astype(str)\n",
    "    .str.extract(r\"^(\\d)\")\n",
    "    [0]\n",
    "    .astype(\"Int64\")  \n",
    ")"
   ]
  },
  {
   "cell_type": "code",
   "execution_count": 67,
   "id": "ec28bc64-1cf0-46e0-981f-9e7920f68dec",
   "metadata": {},
   "outputs": [],
   "source": [
    "map_income = {1:\"POOR/NEGATIVE\", 2:\"NEAR POOR\", 3:\"LOW INCOME\",\n",
    "              4:\"MIDDLE INCOME\", 5:\"HIGH INCOME\"}"
   ]
  },
  {
   "cell_type": "code",
   "execution_count": 68,
   "id": "07a123b8-925d-4747-8c87-3ca757a096dc",
   "metadata": {},
   "outputs": [],
   "source": [
    "edu_income_[\"income_label\"] = code.map(map_income)\n"
   ]
  },
  {
   "cell_type": "code",
   "execution_count": 69,
   "id": "4ec79f24-fc25-4bf0-8b34-1fe50eb1d89c",
   "metadata": {},
   "outputs": [],
   "source": [
    "edu_income_ = edu_income_.rename(columns={\"income_label\": \"POVCAT20\"})[[\"edu_group\", \"POVCAT20\", \"count\"]]\n"
   ]
  },
  {
   "cell_type": "code",
   "execution_count": 70,
   "id": "96593e28-2baf-4f46-a1be-91bdc0577706",
   "metadata": {},
   "outputs": [
    {
     "name": "stdout",
     "output_type": "stream",
     "text": [
      "                    edu_group         POVCAT20       POVCAT20  count\n",
      "0                  Bachelor's    5 HIGH INCOME    HIGH INCOME   2432\n",
      "1                  Bachelor's  4 MIDDLE INCOME  MIDDLE INCOME   1037\n",
      "2                  Bachelor's     3 LOW INCOME     LOW INCOME    291\n",
      "3                  Bachelor's  1 POOR/NEGATIVE  POOR/NEGATIVE    215\n",
      "4                  Bachelor's      2 NEAR POOR      NEAR POOR     86\n",
      "5       Graduate/Professional    5 HIGH INCOME    HIGH INCOME   2063\n",
      "6       Graduate/Professional  4 MIDDLE INCOME  MIDDLE INCOME    451\n",
      "7       Graduate/Professional     3 LOW INCOME     LOW INCOME    142\n",
      "8       Graduate/Professional  1 POOR/NEGATIVE  POOR/NEGATIVE     89\n",
      "9       Graduate/Professional      2 NEAR POOR      NEAR POOR     39\n",
      "10                High School  4 MIDDLE INCOME  MIDDLE INCOME   2006\n",
      "11                High School    5 HIGH INCOME    HIGH INCOME   1721\n",
      "12                High School  1 POOR/NEGATIVE  POOR/NEGATIVE   1188\n",
      "13                High School     3 LOW INCOME     LOW INCOME   1146\n",
      "14                High School      2 NEAR POOR      NEAR POOR    360\n",
      "15  High School Not Completed  1 POOR/NEGATIVE  POOR/NEGATIVE   2599\n",
      "16  High School Not Completed  4 MIDDLE INCOME  MIDDLE INCOME   2511\n",
      "17  High School Not Completed    5 HIGH INCOME    HIGH INCOME   2046\n",
      "18  High School Not Completed     3 LOW INCOME     LOW INCOME   1828\n",
      "19  High School Not Completed      2 NEAR POOR      NEAR POOR    676\n",
      "20               Some College    5 HIGH INCOME    HIGH INCOME   1775\n",
      "21               Some College  4 MIDDLE INCOME  MIDDLE INCOME   1612\n",
      "22               Some College     3 LOW INCOME     LOW INCOME    689\n",
      "23               Some College  1 POOR/NEGATIVE  POOR/NEGATIVE    592\n",
      "24               Some College      2 NEAR POOR      NEAR POOR    211\n"
     ]
    }
   ],
   "source": [
    "print(edu_income_)"
   ]
  },
  {
   "cell_type": "code",
   "execution_count": 71,
   "id": "1606626a-78a3-4275-8069-2aebd1942287",
   "metadata": {},
   "outputs": [],
   "source": [
    "edu_income_.to_csv(\"meps_edu_income_.csv\", index=False, encoding=\"utf-8\")"
   ]
  },
  {
   "cell_type": "code",
   "execution_count": 72,
   "id": "877fdb5a-c54c-48de-93a4-6301676328e7",
   "metadata": {},
   "outputs": [],
   "source": [
    "meps_df= meps2020.dropna(subset=[\"TOTEXP20\", \"PERWT20F\", \"SEX\", \"REGION20\"])"
   ]
  },
  {
   "cell_type": "code",
   "execution_count": 73,
   "id": "02baf4b4-5c8e-48f2-bf52-f4efa6a71294",
   "metadata": {},
   "outputs": [
    {
     "name": "stdout",
     "output_type": "stream",
     "text": [
      "['DUPERSID', 'PERWT20F', 'INSCOV20', 'TOTEXP20', 'TOTSLF20', 'POVCAT20', 'RACEV1X', 'HISPANX', 'EDUCYR', 'AGE20X', 'SEX', 'REGION20', 'uninsured', 'race', 'Coverage', 'coverage_status', 'EDUCYR_num', 'edu_group']\n"
     ]
    }
   ],
   "source": [
    "print(meps2020.columns.tolist())"
   ]
  },
  {
   "cell_type": "code",
   "execution_count": 74,
   "id": "e3cb9d7e-7db5-4811-aef1-5f19b3f494a2",
   "metadata": {},
   "outputs": [
    {
     "name": "stderr",
     "output_type": "stream",
     "text": [
      "C:\\Users\\mahi0\\AppData\\Local\\Temp\\ipykernel_2616\\104897052.py:1: FutureWarning: The default of observed=False is deprecated and will be changed to True in a future version of pandas. Pass observed=False to retain current behavior or observed=True to adopt the future default and silence this warning.\n",
      "  avg_exp = meps_df.groupby([\"REGION20\", \"SEX\"]).apply(\n",
      "C:\\Users\\mahi0\\AppData\\Local\\Temp\\ipykernel_2616\\104897052.py:1: DeprecationWarning: DataFrameGroupBy.apply operated on the grouping columns. This behavior is deprecated, and in a future version of pandas the grouping columns will be excluded from the operation. Either pass `include_groups=False` to exclude the groupings or explicitly select the grouping columns after groupby to silence this warning.\n",
      "  avg_exp = meps_df.groupby([\"REGION20\", \"SEX\"]).apply(\n"
     ]
    }
   ],
   "source": [
    "avg_exp = meps_df.groupby([\"REGION20\", \"SEX\"]).apply(\n",
    "    lambda g: (g[\"TOTEXP20\"] * g[\"PERWT20F\"]).sum() / g[\"PERWT20F\"].sum()\n",
    ").reset_index(name=\"avg_expenditure\")"
   ]
  },
  {
   "cell_type": "code",
   "execution_count": 75,
   "id": "1ba899ed-0a32-48a9-ba22-9a864971509c",
   "metadata": {},
   "outputs": [
    {
     "name": "stdout",
     "output_type": "stream",
     "text": [
      "          REGION20       SEX  avg_expenditure\n",
      "0  -1 INAPPLICABLE    1 MALE     23226.591570\n",
      "1  -1 INAPPLICABLE  2 FEMALE     14526.945144\n",
      "2      1 NORTHEAST    1 MALE      6475.336825\n",
      "3      1 NORTHEAST  2 FEMALE      6642.553293\n",
      "4        2 MIDWEST    1 MALE      6328.810374\n",
      "5        2 MIDWEST  2 FEMALE      7201.908840\n",
      "6          3 SOUTH    1 MALE      5319.632680\n",
      "7          3 SOUTH  2 FEMALE      6368.750757\n",
      "8           4 WEST    1 MALE      5239.142942\n",
      "9           4 WEST  2 FEMALE      6403.261707\n"
     ]
    }
   ],
   "source": [
    "print(avg_exp.head(10))"
   ]
  },
  {
   "cell_type": "code",
   "execution_count": 76,
   "id": "b1a69cd6-b416-484c-820a-61fde3ea9635",
   "metadata": {},
   "outputs": [
    {
     "name": "stdout",
     "output_type": "stream",
     "text": [
      "0    -1 INAPPLICABLE\n",
      "1    -1 INAPPLICABLE\n",
      "2        1 NORTHEAST\n",
      "3        1 NORTHEAST\n",
      "4          2 MIDWEST\n",
      "5          2 MIDWEST\n",
      "6            3 SOUTH\n",
      "7            3 SOUTH\n",
      "8             4 WEST\n",
      "9             4 WEST\n",
      "Name: REGION20, dtype: category\n",
      "Categories (5, object): ['-1 INAPPLICABLE' < '1 NORTHEAST' < '2 MIDWEST' < '3 SOUTH' < '4 WEST']\n"
     ]
    }
   ],
   "source": [
    "print(avg_exp[\"REGION20\"].head(20))"
   ]
  },
  {
   "cell_type": "code",
   "execution_count": 77,
   "id": "8a3535cc-f0ae-4c5b-a7df-8ecab29ab68e",
   "metadata": {},
   "outputs": [
    {
     "name": "stdout",
     "output_type": "stream",
     "text": [
      "0      1 MALE\n",
      "1    2 FEMALE\n",
      "2      1 MALE\n",
      "3    2 FEMALE\n",
      "4      1 MALE\n",
      "5    2 FEMALE\n",
      "6      1 MALE\n",
      "7    2 FEMALE\n",
      "8      1 MALE\n",
      "9    2 FEMALE\n",
      "Name: SEX, dtype: category\n",
      "Categories (2, object): ['1 MALE' < '2 FEMALE']\n"
     ]
    }
   ],
   "source": [
    "print(avg_exp[\"SEX\"].head(20))"
   ]
  },
  {
   "cell_type": "code",
   "execution_count": 78,
   "id": "3a1404cc-12a2-435a-b43b-63242bc05fda",
   "metadata": {},
   "outputs": [],
   "source": [
    "avg_exp[\"REGION20_code\"] = avg_exp[\"REGION20\"].astype(str).str.extract(r'^(-?\\d+)').astype(float).astype('Int64')"
   ]
  },
  {
   "cell_type": "code",
   "execution_count": 79,
   "id": "50d5a4d0-986c-45a1-b355-540881f9f446",
   "metadata": {},
   "outputs": [],
   "source": [
    "avg_exp[\"SEX_code\"]= avg_exp[\"SEX\"].astype(str).str.extract(r'^(-?\\d+)').astype(float).astype('Int64')"
   ]
  },
  {
   "cell_type": "code",
   "execution_count": 80,
   "id": "90e54888-a56c-404e-9c44-d94cc2f9fb81",
   "metadata": {},
   "outputs": [],
   "source": [
    "region_map = {-1:\"Inapplicable\", 1:\"Northeast\", 2:\"Midwest\", 3:\"South\", 4:\"West\"}"
   ]
  },
  {
   "cell_type": "code",
   "execution_count": 81,
   "id": "c0e428cf-9a0d-4c80-afe9-cf4a436a05b8",
   "metadata": {},
   "outputs": [],
   "source": [
    "avg_exp[\"REGION20\"] = avg_exp[\"REGION20_code\"].map(region_map)"
   ]
  },
  {
   "cell_type": "code",
   "execution_count": 82,
   "id": "9e0b402e-9559-4b65-8c01-3df1b71bd22e",
   "metadata": {},
   "outputs": [
    {
     "name": "stdout",
     "output_type": "stream",
     "text": [
      "0    Inapplicable\n",
      "1    Inapplicable\n",
      "2       Northeast\n",
      "3       Northeast\n",
      "4         Midwest\n",
      "5         Midwest\n",
      "6           South\n",
      "7           South\n",
      "8            West\n",
      "9            West\n",
      "Name: REGION20, dtype: object\n"
     ]
    }
   ],
   "source": [
    "print(avg_exp[\"REGION20\"].head(20))"
   ]
  },
  {
   "cell_type": "code",
   "execution_count": 83,
   "id": "5d69bcab-00e3-49e6-a6c4-88cdd20e67b3",
   "metadata": {},
   "outputs": [
    {
     "name": "stdout",
     "output_type": "stream",
     "text": [
      "0      1 MALE\n",
      "1    2 FEMALE\n",
      "2      1 MALE\n",
      "3    2 FEMALE\n",
      "4      1 MALE\n",
      "5    2 FEMALE\n",
      "6      1 MALE\n",
      "7    2 FEMALE\n",
      "8      1 MALE\n",
      "9    2 FEMALE\n",
      "Name: SEX, dtype: category\n",
      "Categories (2, object): ['1 MALE' < '2 FEMALE']\n"
     ]
    }
   ],
   "source": [
    "print(avg_exp[\"SEX\"].head(20))"
   ]
  },
  {
   "cell_type": "code",
   "execution_count": 84,
   "id": "12482f45-6d1e-4917-8d2b-712f2296a467",
   "metadata": {},
   "outputs": [],
   "source": [
    "sex_map= {1:\"Male\", 2:\"Female\"}"
   ]
  },
  {
   "cell_type": "code",
   "execution_count": 85,
   "id": "af307911-9a77-4f2b-aaca-688dcc9440a0",
   "metadata": {},
   "outputs": [],
   "source": [
    "avg_exp[\"SEX\"] = avg_exp[\"SEX_code\"].map(sex_map)"
   ]
  },
  {
   "cell_type": "code",
   "execution_count": 86,
   "id": "2e4ae94f-0de8-40a2-ae50-c0ab34055653",
   "metadata": {},
   "outputs": [
    {
     "name": "stdout",
     "output_type": "stream",
     "text": [
      "       REGION20     SEX  avg_expenditure  REGION20_code  SEX_code\n",
      "0  Inapplicable    Male     23226.591570             -1         1\n",
      "1  Inapplicable  Female     14526.945144             -1         2\n",
      "2     Northeast    Male      6475.336825              1         1\n",
      "3     Northeast  Female      6642.553293              1         2\n",
      "4       Midwest    Male      6328.810374              2         1\n",
      "5       Midwest  Female      7201.908840              2         2\n",
      "6         South    Male      5319.632680              3         1\n",
      "7         South  Female      6368.750757              3         2\n",
      "8          West    Male      5239.142942              4         1\n",
      "9          West  Female      6403.261707              4         2\n"
     ]
    }
   ],
   "source": [
    "print(avg_exp.head(20))"
   ]
  },
  {
   "cell_type": "code",
   "execution_count": 152,
   "id": "5400e68a-f90e-4740-a326-8fc6139e791e",
   "metadata": {},
   "outputs": [],
   "source": [
    "avg_exp.to_csv(\"avg_expenditure_by_region.csv\", index=False)"
   ]
  },
  {
   "cell_type": "code",
   "execution_count": 87,
   "id": "1a26b166-7e75-4e6c-becd-9dee0351211d",
   "metadata": {},
   "outputs": [],
   "source": [
    "#educationincometableinpercent=educationincometable.div(educationincometable.sum(axis=1), axis=0)*100"
   ]
  },
  {
   "cell_type": "code",
   "execution_count": 88,
   "id": "748994f3-e7bd-422f-a195-73942ffbab9b",
   "metadata": {},
   "outputs": [],
   "source": [
    "#print(educationincometableinpercent)"
   ]
  },
  {
   "cell_type": "code",
   "execution_count": 89,
   "id": "93177e4a-f581-4e20-908a-6d5535329a24",
   "metadata": {},
   "outputs": [],
   "source": [
    "#import matplotlib.pyplot as plt"
   ]
  },
  {
   "cell_type": "code",
   "execution_count": 90,
   "id": "9ab6596d-69a0-4fef-a174-76ffd5c13945",
   "metadata": {},
   "outputs": [],
   "source": [
    "#plt.xlabel(\"Education Group\")\n",
    "#plt.ylabel(\"Number of People\")\n",
    "#plt.title(\"Income Distribution By Education\")\n",
    "#plt.legend(title= \"Income Category\")\n",
    "#plt.show()"
   ]
  },
  {
   "cell_type": "code",
   "execution_count": 91,
   "id": "49838a41-e33a-441c-8569-ee73bf2f6149",
   "metadata": {},
   "outputs": [
    {
     "data": {
      "text/plain": [
       "health_status\n",
       "2    59737\n",
       "1    56276\n",
       "3    48162\n",
       "4    18641\n",
       "5     5519\n",
       "7       46\n",
       "9       38\n",
       "Name: count, dtype: int64"
      ]
     },
     "execution_count": 91,
     "metadata": {},
     "output_type": "execute_result"
    }
   ],
   "source": [
    "df[\"health_status\"].value_counts()"
   ]
  },
  {
   "cell_type": "code",
   "execution_count": 92,
   "id": "97be537a-9a95-4f68-97b5-921a9ab3fdfd",
   "metadata": {},
   "outputs": [],
   "source": [
    "#Grouping health categories"
   ]
  },
  {
   "cell_type": "code",
   "execution_count": 93,
   "id": "80d0d99f-f7d5-42a8-ac4d-b66c8ad07a98",
   "metadata": {},
   "outputs": [],
   "source": [
    "health_categories = {\n",
    "    1: \"Excellent\",\n",
    "    2: \"Very Good\",\n",
    "    3: \"Good\",\n",
    "    4: \"Fair\",\n",
    "    5: \"Poor\",\n",
    "    7: \"Unknown-refused\",\n",
    "    8: \"Unknown-not ascertained\",\n",
    "    9: \"Unknown-don't know\"\n",
    "}"
   ]
  },
  {
   "cell_type": "code",
   "execution_count": 94,
   "id": "462bd4ae-be3a-4765-8a48-c41ad9439b70",
   "metadata": {},
   "outputs": [],
   "source": [
    "df[\"health_status_label\"] = df[\"health_status\"].map(health_categories)\n"
   ]
  },
  {
   "cell_type": "code",
   "execution_count": 95,
   "id": "c3f4cf0e-3b7c-4107-9363-c65e350dd007",
   "metadata": {},
   "outputs": [
    {
     "data": {
      "text/plain": [
       "health_status_label\n",
       "Very Good             0.317043\n",
       "Excellent             0.298675\n",
       "Good                  0.255611\n",
       "Fair                  0.098934\n",
       "Poor                  0.029291\n",
       "Unknown-refused       0.000244\n",
       "Unknown-don't know    0.000202\n",
       "Name: proportion, dtype: float64"
      ]
     },
     "execution_count": 95,
     "metadata": {},
     "output_type": "execute_result"
    }
   ],
   "source": [
    "df[\"health_status_label\"].value_counts(normalize=True)"
   ]
  },
  {
   "cell_type": "code",
   "execution_count": 96,
   "id": "3bd1d626-8ace-4acb-a37d-0458eed7a466",
   "metadata": {},
   "outputs": [
    {
     "name": "stdout",
     "output_type": "stream",
     "text": [
      "   health_status health_status_label\n",
      "0              1           Excellent\n",
      "1              2           Very Good\n",
      "2              2           Very Good\n",
      "3              4                Fair\n",
      "4              2           Very Good\n",
      "5              2           Very Good\n",
      "6              1           Excellent\n",
      "7              3                Good\n",
      "8              1           Excellent\n",
      "9              3                Good\n"
     ]
    }
   ],
   "source": [
    "print(df[[\"health_status\", \"health_status_label\"]].head(10))"
   ]
  },
  {
   "cell_type": "code",
   "execution_count": 97,
   "id": "87936847-54ba-4c87-89cb-0c00f35fa765",
   "metadata": {},
   "outputs": [
    {
     "name": "stdout",
     "output_type": "stream",
     "text": [
      "Index(['year', 'serial_number', 'sampling_strata', 'primary_sampling_unit',\n",
      "       'household_id', 'person_number', 'person_id', 'household_number',\n",
      "       'sample_person_weight', 'longitudinal_weight', 'PARTWEIGHT',\n",
      "       'sample_adult_flag', 'sample_child_flag', 'AGE', 'sex', 'race',\n",
      "       'non_english_at_home', 'education_attainment',\n",
      "       'max_education_in_family', 'health_status', 'height_inches',\n",
      "       'weight_pounds', 'bmi', 'health_insurance_coverage',\n",
      "       'private_insurance_coverage', 'state_plan_insurance_coverage',\n",
      "       'emailed_provider_past_12mo', 'internet_access',\n",
      "       'covid19_diagnosed_flag', 'covid19_tested_flag',\n",
      "       'education_attainment_group', 'race_grp', 'health_status_label'],\n",
      "      dtype='object')\n"
     ]
    }
   ],
   "source": [
    "print(df.columns)"
   ]
  },
  {
   "cell_type": "code",
   "execution_count": 98,
   "id": "51451d9e-a8f4-4450-9f08-03c0818deb40",
   "metadata": {},
   "outputs": [
    {
     "name": "stdout",
     "output_type": "stream",
     "text": [
      "Index(['DUPERSID', 'PERWT20F', 'INSCOV20', 'TOTEXP20', 'TOTSLF20', 'POVCAT20',\n",
      "       'RACEV1X', 'HISPANX', 'EDUCYR', 'AGE20X', 'SEX', 'REGION20',\n",
      "       'uninsured', 'race', 'Coverage', 'coverage_status', 'EDUCYR_num',\n",
      "       'edu_group'],\n",
      "      dtype='object')\n"
     ]
    }
   ],
   "source": [
    "print(meps2020.columns)"
   ]
  },
  {
   "cell_type": "code",
   "execution_count": 99,
   "id": "cb41558c-9be7-4b79-add7-3370f1615e16",
   "metadata": {},
   "outputs": [],
   "source": [
    "# Assumed that they would have matching unique ids because they were conducted on the same people.... but looks like they don't so I need to find another way to compare the two data sets :("
   ]
  },
  {
   "cell_type": "code",
   "execution_count": 100,
   "id": "c5408b16-836c-49ac-9243-ee6b9db25ef2",
   "metadata": {},
   "outputs": [],
   "source": [
    "import seaborn as sns"
   ]
  },
  {
   "cell_type": "code",
   "execution_count": 101,
   "id": "954a00d1-7c43-49ee-8d69-7742afda1688",
   "metadata": {},
   "outputs": [],
   "source": [
    "edu_health = pd.crosstab(df[\"education_attainment_group\"], df[\"health_status_label\"], normalize=\"index\")\n"
   ]
  },
  {
   "cell_type": "code",
   "execution_count": 102,
   "id": "c4fd9775-53c7-4716-8492-5c5da96959b9",
   "metadata": {},
   "outputs": [
    {
     "name": "stdout",
     "output_type": "stream",
     "text": [
      "health_status_label         Excellent      Fair      Good      Poor  \\\n",
      "education_attainment_group                                            \n",
      "Bachelor's                   0.267744  0.065856  0.245115  0.016249   \n",
      "Graduate/Professional        0.300984  0.053794  0.222071  0.014184   \n",
      "HS diploma/GED               0.163142  0.158068  0.342490  0.046703   \n",
      "Less than HS                 0.129919  0.241039  0.344034  0.095029   \n",
      "Some college/AA              0.184579  0.125036  0.310823  0.036219   \n",
      "Unknown                      0.639658  0.022528  0.109977  0.003890   \n",
      "\n",
      "health_status_label         Unknown-don't know  Unknown-refused  Very Good  \n",
      "education_attainment_group                                                  \n",
      "Bachelor's                            0.000086         0.000286   0.404663  \n",
      "Graduate/Professional                 0.000176         0.000220   0.408572  \n",
      "HS diploma/GED                        0.000319         0.000239   0.289039  \n",
      "Less than HS                          0.000478         0.000239   0.189262  \n",
      "Some college/AA                       0.000237         0.000237   0.342870  \n",
      "Unknown                               0.000078         0.000235   0.223635  \n"
     ]
    }
   ],
   "source": [
    "print(edu_health)"
   ]
  },
  {
   "cell_type": "code",
   "execution_count": 103,
   "id": "7c678f9e-a6e9-49a0-b3fb-be6fd70eed96",
   "metadata": {},
   "outputs": [],
   "source": [
    "edu_health.to_csv(\"health_status_by_education.csv\")"
   ]
  },
  {
   "cell_type": "code",
   "execution_count": 105,
   "id": "932bfb86-3d16-4bd7-97d8-3694559e814b",
   "metadata": {},
   "outputs": [],
   "source": [
    "import matplotlib.pyplot as plt"
   ]
  },
  {
   "cell_type": "code",
   "execution_count": 106,
   "id": "199f3d3e-b3a7-4bdd-9dfd-7227605a5919",
   "metadata": {},
   "outputs": [
    {
     "data": {
      "image/png": "[encoded data removed]",
      "text/plain": [
       "<Figure size 640x480 with 2 Axes>"
      ]
     },
     "metadata": {},
     "output_type": "display_data"
    }
   ],
   "source": [
    "sns.heatmap(edu_health, annot=True, cmap=\"Blues\")\n",
    "plt.title(\"Health Status by Education Attainment\")\n",
    "plt.show()\n"
   ]
  },
  {
   "cell_type": "code",
   "execution_count": 107,
   "id": "165f7025-4105-40f3-97f5-7dee2d8d1fb8",
   "metadata": {},
   "outputs": [],
   "source": [
    "race=pd.crosstab([df[\"education_attainment_group\"],  df[\"race_grp\"]],\n",
    "                 df[\"health_status_label\"], normalize=\"index\")"
   ]
  },
  {
   "cell_type": "code",
   "execution_count": 108,
   "id": "f32a63dc-4d86-4215-87b1-e3db2f3d9473",
   "metadata": {},
   "outputs": [
    {
     "name": "stdout",
     "output_type": "stream",
     "text": [
      "health_status_label                           Excellent      Fair      Good  \\\n",
      "education_attainment_group race_grp                                           \n",
      "Bachelor's                 AIAN                0.210526  0.120301  0.255639   \n",
      "                           Asian               0.286460  0.059706  0.278303   \n",
      "                           Black               0.227374  0.087166  0.314540   \n",
      "                           Other/Multiracial   0.265152  0.064394  0.253788   \n",
      "                           Other/Unknown       0.218605  0.106977  0.265116   \n",
      "                           Unknown-DK          0.058824  0.058824  0.470588   \n",
      "                           Unknown-NA          0.317865  0.061485  0.269142   \n",
      "                           Unknown-Refused     0.277778  0.055556  0.166667   \n",
      "                           White               0.268882  0.064039  0.233361   \n",
      "Graduate/Professional      AIAN                0.265060  0.084337  0.240964   \n",
      "                           Asian               0.331893  0.034564  0.223488   \n",
      "                           Black               0.249010  0.076967  0.290323   \n",
      "                           Other/Multiracial   0.292419  0.061372  0.270758   \n",
      "                           Other/Unknown       0.201613  0.072581  0.338710   \n",
      "                           Unknown-DK          0.333333  0.000000  0.333333   \n",
      "                           Unknown-NA          0.329154  0.056426  0.238245   \n",
      "                           Unknown-Refused     0.083333  0.166667  0.500000   \n",
      "                           White               0.302359  0.053748  0.212836   \n",
      "HS diploma/GED             AIAN                0.142857  0.162562  0.354680   \n",
      "                           Asian               0.200324  0.125710  0.369830   \n",
      "                           Black               0.174954  0.200731  0.348082   \n",
      "                           Other/Multiracial   0.228145  0.104478  0.326226   \n",
      "                           Other/Unknown       0.144543  0.203540  0.345133   \n",
      "                           Unknown-DK          0.133333  0.233333  0.300000   \n",
      "                           Unknown-NA          0.241030  0.132967  0.337273   \n",
      "                           Unknown-Refused     0.187500  0.250000  0.375000   \n",
      "                           White               0.152228  0.154238  0.340825   \n",
      "Less than HS               AIAN                0.101562  0.292969  0.257812   \n",
      "                           Asian               0.137795  0.157480  0.403543   \n",
      "                           Black               0.103155  0.307962  0.331998   \n",
      "                           Other/Multiracial   0.190476  0.142857  0.352381   \n",
      "                           Other/Unknown       0.120690  0.362069  0.250000   \n",
      "                           Unknown-DK          0.148148  0.148148  0.444444   \n",
      "                           Unknown-NA          0.167288  0.210624  0.383970   \n",
      "                           Unknown-Refused     0.000000  0.250000  0.750000   \n",
      "                           White               0.126031  0.235565  0.335362   \n",
      "Some college/AA            AIAN                0.164241  0.176715  0.301455   \n",
      "                           Asian               0.241181  0.092873  0.314615   \n",
      "                           Black               0.175342  0.168297  0.345988   \n",
      "                           Other/Multiracial   0.222047  0.114961  0.277165   \n",
      "                           Other/Unknown       0.135593  0.186441  0.322034   \n",
      "                           Unknown-DK          0.160000  0.120000  0.360000   \n",
      "                           Unknown-NA          0.226930  0.104469  0.321532   \n",
      "                           Unknown-Refused     0.066667  0.066667  0.533333   \n",
      "                           White               0.181790  0.119118  0.304997   \n",
      "Unknown                    AIAN                0.574879  0.026570  0.142512   \n",
      "                           Asian               0.646628  0.014663  0.103739   \n",
      "                           Black               0.583796  0.034000  0.151435   \n",
      "                           Other/Multiracial   0.643578  0.017890  0.096789   \n",
      "                           Other/Unknown       0.603704  0.038889  0.133333   \n",
      "                           Unknown-DK          0.508772  0.017544  0.315789   \n",
      "                           Unknown-NA          0.557134  0.038826  0.173611   \n",
      "                           Unknown-Refused     0.391304  0.000000  0.326087   \n",
      "                           White               0.660860  0.019458  0.094974   \n",
      "\n",
      "health_status_label                               Poor  Unknown-don't know  \\\n",
      "education_attainment_group race_grp                                          \n",
      "Bachelor's                 AIAN               0.030075            0.000000   \n",
      "                           Asian              0.012072            0.000000   \n",
      "                           Black              0.020772            0.000371   \n",
      "                           Other/Multiracial  0.018939            0.000000   \n",
      "                           Other/Unknown      0.051163            0.000000   \n",
      "                           Unknown-DK         0.117647            0.000000   \n",
      "                           Unknown-NA         0.015081            0.000000   \n",
      "                           Unknown-Refused    0.000000            0.000000   \n",
      "                           White              0.015864            0.000073   \n",
      "Graduate/Professional      AIAN               0.024096            0.000000   \n",
      "                           Asian              0.009819            0.000000   \n",
      "                           Black              0.017544            0.000566   \n",
      "                           Other/Multiracial  0.014440            0.000000   \n",
      "                           Other/Unknown      0.024194            0.000000   \n",
      "                           Unknown-DK         0.000000            0.000000   \n",
      "                           Unknown-NA         0.012539            0.000000   \n",
      "                           Unknown-Refused    0.000000            0.000000   \n",
      "                           White              0.014401            0.000170   \n",
      "HS diploma/GED             AIAN               0.068966            0.000000   \n",
      "                           Asian              0.038929            0.000811   \n",
      "                           Black              0.045667            0.000000   \n",
      "                           Other/Multiracial  0.025586            0.000000   \n",
      "                           Other/Unknown      0.056047            0.000000   \n",
      "                           Unknown-DK         0.033333            0.000000   \n",
      "                           Unknown-NA         0.026171            0.000844   \n",
      "                           Unknown-Refused    0.000000            0.000000   \n",
      "                           White              0.048935            0.000323   \n",
      "Less than HS               AIAN               0.117188            0.003906   \n",
      "                           Asian              0.098425            0.000000   \n",
      "                           Black              0.100651            0.000000   \n",
      "                           Other/Multiracial  0.085714            0.000000   \n",
      "                           Other/Unknown      0.137931            0.000000   \n",
      "                           Unknown-DK         0.000000            0.000000   \n",
      "                           Unknown-NA         0.059180            0.000932   \n",
      "                           Unknown-Refused    0.000000            0.000000   \n",
      "                           White              0.102772            0.000406   \n",
      "Some college/AA            AIAN               0.037422            0.000000   \n",
      "                           Asian              0.018719            0.000720   \n",
      "                           Black              0.036008            0.000196   \n",
      "                           Other/Multiracial  0.026772            0.000000   \n",
      "                           Other/Unknown      0.097928            0.000000   \n",
      "                           Unknown-DK         0.000000            0.000000   \n",
      "                           Unknown-NA         0.031921            0.000580   \n",
      "                           Unknown-Refused    0.133333            0.000000   \n",
      "                           White              0.036370            0.000217   \n",
      "Unknown                    AIAN               0.004831            0.000000   \n",
      "                           Asian              0.003299            0.000000   \n",
      "                           Black              0.006511            0.000000   \n",
      "                           Other/Multiracial  0.000917            0.000000   \n",
      "                           Other/Unknown      0.003704            0.000000   \n",
      "                           Unknown-DK         0.000000            0.000000   \n",
      "                           Unknown-NA         0.004419            0.000316   \n",
      "                           Unknown-Refused    0.021739            0.000000   \n",
      "                           White              0.003676            0.000080   \n",
      "\n",
      "health_status_label                           Unknown-refused  Very Good  \n",
      "education_attainment_group race_grp                                       \n",
      "Bachelor's                 AIAN                      0.000000   0.383459  \n",
      "                           Asian                     0.000000   0.363458  \n",
      "                           Black                     0.000000   0.349777  \n",
      "                           Other/Multiracial         0.000000   0.397727  \n",
      "                           Other/Unknown             0.000000   0.358140  \n",
      "                           Unknown-DK                0.000000   0.294118  \n",
      "                           Unknown-NA                0.000000   0.336427  \n",
      "                           Unknown-Refused           0.000000   0.500000  \n",
      "                           White                     0.000365   0.417417  \n",
      "Graduate/Professional      AIAN                      0.000000   0.385542  \n",
      "                           Asian                     0.000393   0.399843  \n",
      "                           Black                     0.000000   0.365591  \n",
      "                           Other/Multiracial         0.000000   0.361011  \n",
      "                           Other/Unknown             0.000000   0.362903  \n",
      "                           Unknown-DK                0.000000   0.333333  \n",
      "                           Unknown-NA                0.000000   0.363636  \n",
      "                           Unknown-Refused           0.000000   0.250000  \n",
      "                           White                     0.000227   0.416260  \n",
      "HS diploma/GED             AIAN                      0.000000   0.270936  \n",
      "                           Asian                     0.000000   0.264396  \n",
      "                           Black                     0.000609   0.229957  \n",
      "                           Other/Multiracial         0.000000   0.315565  \n",
      "                           Other/Unknown             0.000000   0.250737  \n",
      "                           Unknown-DK                0.000000   0.300000  \n",
      "                           Unknown-NA                0.000000   0.261714  \n",
      "                           Unknown-Refused           0.000000   0.187500  \n",
      "                           White                     0.000215   0.303235  \n",
      "Less than HS               AIAN                      0.000000   0.226562  \n",
      "                           Asian                     0.000000   0.202756  \n",
      "                           Black                     0.000501   0.155734  \n",
      "                           Other/Multiracial         0.009524   0.219048  \n",
      "                           Other/Unknown             0.000000   0.129310  \n",
      "                           Unknown-DK                0.000000   0.259259  \n",
      "                           Unknown-NA                0.000000   0.178006  \n",
      "                           Unknown-Refused           0.000000   0.000000  \n",
      "                           White                     0.000135   0.199730  \n",
      "Some college/AA            AIAN                      0.002079   0.318087  \n",
      "                           Asian                     0.000000   0.331893  \n",
      "                           Black                     0.000587   0.273581  \n",
      "                           Other/Multiracial         0.000000   0.359055  \n",
      "                           Other/Unknown             0.000000   0.258004  \n",
      "                           Unknown-DK                0.000000   0.360000  \n",
      "                           Unknown-NA                0.000000   0.314568  \n",
      "                           Unknown-Refused           0.000000   0.200000  \n",
      "                           White                     0.000186   0.357322  \n",
      "Unknown                    AIAN                      0.000000   0.251208  \n",
      "                           Asian                     0.000000   0.231672  \n",
      "                           Black                     0.000241   0.224017  \n",
      "                           Other/Multiracial         0.000000   0.240826  \n",
      "                           Other/Unknown             0.000000   0.220370  \n",
      "                           Unknown-DK                0.000000   0.157895  \n",
      "                           Unknown-NA                0.000316   0.225379  \n",
      "                           Unknown-Refused           0.000000   0.260870  \n",
      "                           White                     0.000280   0.220673  \n"
     ]
    }
   ],
   "source": [
    "print(race) # education is correlated with better health for all groups? "
   ]
  },
  {
   "cell_type": "code",
   "execution_count": 109,
   "id": "37f3ed5a-8fd0-4b13-b5dd-512554525c26",
   "metadata": {},
   "outputs": [],
   "source": [
    "race_reset=race.reset_index()"
   ]
  },
  {
   "cell_type": "code",
   "execution_count": 110,
   "id": "e9f24d65-d294-4d63-b0c4-3cfc6f233821",
   "metadata": {},
   "outputs": [
    {
     "data": {
      "text/html": [
       "<div>\n",
       "<style scoped>\n",
       "    .dataframe tbody tr th:only-of-type {\n",
       "        vertical-align: middle;\n",
       "    }\n",
       "\n",
       "    .dataframe tbody tr th {\n",
       "        vertical-align: top;\n",
       "    }\n",
       "\n",
       "    .dataframe thead th {\n",
       "        text-align: right;\n",
       "    }\n",
       "</style>\n",
       "<table border=\"1\" class=\"dataframe\">\n",
       "  <thead>\n",
       "    <tr style=\"text-align: right;\">\n",
       "      <th>health_status_label</th>\n",
       "      <th>education_attainment_group</th>\n",
       "      <th>race_grp</th>\n",
       "      <th>Excellent</th>\n",
       "      <th>Fair</th>\n",
       "      <th>Good</th>\n",
       "      <th>Poor</th>\n",
       "      <th>Unknown-don't know</th>\n",
       "      <th>Unknown-refused</th>\n",
       "      <th>Very Good</th>\n",
       "    </tr>\n",
       "  </thead>\n",
       "  <tbody>\n",
       "    <tr>\n",
       "      <th>0</th>\n",
       "      <td>Bachelor's</td>\n",
       "      <td>AIAN</td>\n",
       "      <td>0.210526</td>\n",
       "      <td>0.120301</td>\n",
       "      <td>0.255639</td>\n",
       "      <td>0.030075</td>\n",
       "      <td>0.000000</td>\n",
       "      <td>0.0</td>\n",
       "      <td>0.383459</td>\n",
       "    </tr>\n",
       "    <tr>\n",
       "      <th>1</th>\n",
       "      <td>Bachelor's</td>\n",
       "      <td>Asian</td>\n",
       "      <td>0.286460</td>\n",
       "      <td>0.059706</td>\n",
       "      <td>0.278303</td>\n",
       "      <td>0.012072</td>\n",
       "      <td>0.000000</td>\n",
       "      <td>0.0</td>\n",
       "      <td>0.363458</td>\n",
       "    </tr>\n",
       "    <tr>\n",
       "      <th>2</th>\n",
       "      <td>Bachelor's</td>\n",
       "      <td>Black</td>\n",
       "      <td>0.227374</td>\n",
       "      <td>0.087166</td>\n",
       "      <td>0.314540</td>\n",
       "      <td>0.020772</td>\n",
       "      <td>0.000371</td>\n",
       "      <td>0.0</td>\n",
       "      <td>0.349777</td>\n",
       "    </tr>\n",
       "    <tr>\n",
       "      <th>3</th>\n",
       "      <td>Bachelor's</td>\n",
       "      <td>Other/Multiracial</td>\n",
       "      <td>0.265152</td>\n",
       "      <td>0.064394</td>\n",
       "      <td>0.253788</td>\n",
       "      <td>0.018939</td>\n",
       "      <td>0.000000</td>\n",
       "      <td>0.0</td>\n",
       "      <td>0.397727</td>\n",
       "    </tr>\n",
       "    <tr>\n",
       "      <th>4</th>\n",
       "      <td>Bachelor's</td>\n",
       "      <td>Other/Unknown</td>\n",
       "      <td>0.218605</td>\n",
       "      <td>0.106977</td>\n",
       "      <td>0.265116</td>\n",
       "      <td>0.051163</td>\n",
       "      <td>0.000000</td>\n",
       "      <td>0.0</td>\n",
       "      <td>0.358140</td>\n",
       "    </tr>\n",
       "  </tbody>\n",
       "</table>\n",
       "</div>"
      ],
      "text/plain": [
       "health_status_label education_attainment_group           race_grp  Excellent  \\\n",
       "0                                   Bachelor's               AIAN   0.210526   \n",
       "1                                   Bachelor's              Asian   0.286460   \n",
       "2                                   Bachelor's              Black   0.227374   \n",
       "3                                   Bachelor's  Other/Multiracial   0.265152   \n",
       "4                                   Bachelor's      Other/Unknown   0.218605   \n",
       "\n",
       "health_status_label      Fair      Good      Poor  Unknown-don't know  \\\n",
       "0                    0.120301  0.255639  0.030075            0.000000   \n",
       "1                    0.059706  0.278303  0.012072            0.000000   \n",
       "2                    0.087166  0.314540  0.020772            0.000371   \n",
       "3                    0.064394  0.253788  0.018939            0.000000   \n",
       "4                    0.106977  0.265116  0.051163            0.000000   \n",
       "\n",
       "health_status_label  Unknown-refused  Very Good  \n",
       "0                                0.0   0.383459  \n",
       "1                                0.0   0.363458  \n",
       "2                                0.0   0.349777  \n",
       "3                                0.0   0.397727  \n",
       "4                                0.0   0.358140  "
      ]
     },
     "execution_count": 110,
     "metadata": {},
     "output_type": "execute_result"
    }
   ],
   "source": [
    "race_reset.head()"
   ]
  },
  {
   "cell_type": "code",
   "execution_count": 111,
   "id": "20e9a61d-d447-48d8-b0e5-b6e0c47e44c8",
   "metadata": {},
   "outputs": [],
   "source": [
    "race_reset.to_csv(\"race_health_status.csv\", index=False)"
   ]
  },
  {
   "cell_type": "code",
   "execution_count": 112,
   "id": "bc8046c5-73a0-415f-91d5-7c0f13cf0e25",
   "metadata": {},
   "outputs": [],
   "source": [
    "#What is the proportion of people with bad health (as it's related to education)"
   ]
  },
  {
   "cell_type": "code",
   "execution_count": 113,
   "id": "5a1b05bb-fa9a-468a-b1d5-d65a82bc22f8",
   "metadata": {},
   "outputs": [
    {
     "name": "stdout",
     "output_type": "stream",
     "text": [
      "0         Excellent\n",
      "1         Very Good\n",
      "2         Very Good\n",
      "3              Fair\n",
      "4         Very Good\n",
      "            ...    \n",
      "188414         Good\n",
      "188415         Good\n",
      "188416    Very Good\n",
      "188417    Very Good\n",
      "188418    Very Good\n",
      "Name: health_status_label, Length: 188419, dtype: object\n"
     ]
    }
   ],
   "source": [
    "print(df[\"health_status_label\"])\n"
   ]
  },
  {
   "cell_type": "code",
   "execution_count": 114,
   "id": "bff98abc-9f6d-4660-8334-da78f339a203",
   "metadata": {},
   "outputs": [],
   "source": [
    "unhealthy = {\"Fair\",\"Poor\"}"
   ]
  },
  {
   "cell_type": "code",
   "execution_count": 115,
   "id": "f5bee26b-5341-47f8-a730-83570a5d7d13",
   "metadata": {},
   "outputs": [],
   "source": [
    "df[\"bad_health\"] = df[\"health_status_label\"].isin(unhealthy).astype(int)"
   ]
  },
  {
   "cell_type": "code",
   "execution_count": 116,
   "id": "993589db-220d-455b-ae9c-d7017b9768d3",
   "metadata": {},
   "outputs": [],
   "source": [
    "edu_health_share=  (df.groupby(\"education_attainment_group\", as_index=False)[\"bad_health\"]\n",
    "                      .mean()\n",
    "                  .sort_values(\"bad_health\",ascending=False))"
   ]
  },
  {
   "cell_type": "code",
   "execution_count": 117,
   "id": "4e1d8d15-0ab0-418d-a8cd-f94e47a55908",
   "metadata": {},
   "outputs": [],
   "source": [
    "edu_health_share.reset_index(drop=True, inplace=True)"
   ]
  },
  {
   "cell_type": "code",
   "execution_count": 118,
   "id": "50cb624b-5015-46bd-a972-e1147a6704f5",
   "metadata": {},
   "outputs": [
    {
     "name": "stdout",
     "output_type": "stream",
     "text": [
      "  education_attainment_group  bad_health\n",
      "0               Less than HS    0.336068\n",
      "1             HS diploma/GED    0.204771\n",
      "2            Some college/AA    0.161254\n",
      "3                 Bachelor's    0.082106\n",
      "4      Graduate/Professional    0.067978\n",
      "5                    Unknown    0.026417\n"
     ]
    }
   ],
   "source": [
    "print(edu_health_share)"
   ]
  },
  {
   "cell_type": "code",
   "execution_count": 119,
   "id": "7fd46393-ce68-491b-b2f6-5a5001d84eeb",
   "metadata": {},
   "outputs": [],
   "source": [
    "edu_health_share.to_csv(\"edu_health_share.csv\", index=False)"
   ]
  },
  {
   "cell_type": "code",
   "execution_count": 120,
   "id": "81fe613a-f5a9-4c15-9fa6-756b72653672",
   "metadata": {},
   "outputs": [
    {
     "data": {
      "image/png": "[encoded data removed]",
      "text/plain": [
       "<Figure size 640x480 with 1 Axes>"
      ]
     },
     "metadata": {},
     "output_type": "display_data"
    }
   ],
   "source": [
    "plt.bar(edu_health_share[\"education_attainment_group\"], edu_health_share[\"bad_health\"])\n",
    "plt.xticks(rotation=45, ha=\"right\")\n",
    "plt.ylabel(\"Share in Fair/Poor Health\")\n",
    "plt.title(\"NHIS: Fair/Poor Health by Education\")\n",
    "plt.tight_layout()\n",
    "plt.show()"
   ]
  },
  {
   "cell_type": "code",
   "execution_count": 121,
   "id": "649d17b9-8184-4c4c-a133-a1e7629c93b6",
   "metadata": {},
   "outputs": [],
   "source": [
    "#check if adding race makes these results worse"
   ]
  },
  {
   "cell_type": "code",
   "execution_count": 122,
   "id": "5bc0c085-2d73-4ac6-b134-3a3fe7f4b0ff",
   "metadata": {},
   "outputs": [
    {
     "name": "stdout",
     "output_type": "stream",
     "text": [
      "Index(['year', 'serial_number', 'sampling_strata', 'primary_sampling_unit',\n",
      "       'household_id', 'person_number', 'person_id', 'household_number',\n",
      "       'sample_person_weight', 'longitudinal_weight', 'PARTWEIGHT',\n",
      "       'sample_adult_flag', 'sample_child_flag', 'AGE', 'sex', 'race',\n",
      "       'non_english_at_home', 'education_attainment',\n",
      "       'max_education_in_family', 'health_status', 'height_inches',\n",
      "       'weight_pounds', 'bmi', 'health_insurance_coverage',\n",
      "       'private_insurance_coverage', 'state_plan_insurance_coverage',\n",
      "       'emailed_provider_past_12mo', 'internet_access',\n",
      "       'covid19_diagnosed_flag', 'covid19_tested_flag',\n",
      "       'education_attainment_group', 'race_grp', 'health_status_label',\n",
      "       'bad_health'],\n",
      "      dtype='object')\n"
     ]
    }
   ],
   "source": [
    "print(df.columns)"
   ]
  },
  {
   "cell_type": "code",
   "execution_count": 123,
   "id": "74824975-c05d-4dc6-b2a6-f7a5ae29d6f3",
   "metadata": {},
   "outputs": [
    {
     "data": {
      "text/html": [
       "<div>\n",
       "<style scoped>\n",
       "    .dataframe tbody tr th:only-of-type {\n",
       "        vertical-align: middle;\n",
       "    }\n",
       "\n",
       "    .dataframe tbody tr th {\n",
       "        vertical-align: top;\n",
       "    }\n",
       "\n",
       "    .dataframe thead th {\n",
       "        text-align: right;\n",
       "    }\n",
       "</style>\n",
       "<table border=\"1\" class=\"dataframe\">\n",
       "  <thead>\n",
       "    <tr style=\"text-align: right;\">\n",
       "      <th></th>\n",
       "      <th>year</th>\n",
       "      <th>serial_number</th>\n",
       "      <th>sampling_strata</th>\n",
       "      <th>primary_sampling_unit</th>\n",
       "      <th>household_id</th>\n",
       "      <th>person_number</th>\n",
       "      <th>person_id</th>\n",
       "      <th>household_number</th>\n",
       "      <th>sample_person_weight</th>\n",
       "      <th>longitudinal_weight</th>\n",
       "      <th>...</th>\n",
       "      <th>private_insurance_coverage</th>\n",
       "      <th>state_plan_insurance_coverage</th>\n",
       "      <th>emailed_provider_past_12mo</th>\n",
       "      <th>internet_access</th>\n",
       "      <th>covid19_diagnosed_flag</th>\n",
       "      <th>covid19_tested_flag</th>\n",
       "      <th>education_attainment_group</th>\n",
       "      <th>race_grp</th>\n",
       "      <th>health_status_label</th>\n",
       "      <th>bad_health</th>\n",
       "    </tr>\n",
       "  </thead>\n",
       "  <tbody>\n",
       "    <tr>\n",
       "      <th>0</th>\n",
       "      <td>2020</td>\n",
       "      <td>1</td>\n",
       "      <td>150</td>\n",
       "      <td>25</td>\n",
       "      <td>0002020H000002</td>\n",
       "      <td>1</td>\n",
       "      <td>0002020H00000210</td>\n",
       "      <td>H000002</td>\n",
       "      <td>5946.002</td>\n",
       "      <td>17605.50</td>\n",
       "      <td>...</td>\n",
       "      <td>2</td>\n",
       "      <td>10</td>\n",
       "      <td>NaN</td>\n",
       "      <td>NaN</td>\n",
       "      <td>1.0</td>\n",
       "      <td>1.0</td>\n",
       "      <td>Graduate/Professional</td>\n",
       "      <td>White</td>\n",
       "      <td>Excellent</td>\n",
       "      <td>0</td>\n",
       "    </tr>\n",
       "    <tr>\n",
       "      <th>1</th>\n",
       "      <td>2020</td>\n",
       "      <td>2</td>\n",
       "      <td>111</td>\n",
       "      <td>10</td>\n",
       "      <td>0002020H000003</td>\n",
       "      <td>1</td>\n",
       "      <td>0002020H00000310</td>\n",
       "      <td>H000003</td>\n",
       "      <td>6288.726</td>\n",
       "      <td>0.00</td>\n",
       "      <td>...</td>\n",
       "      <td>2</td>\n",
       "      <td>10</td>\n",
       "      <td>NaN</td>\n",
       "      <td>NaN</td>\n",
       "      <td>0.0</td>\n",
       "      <td>0.0</td>\n",
       "      <td>Graduate/Professional</td>\n",
       "      <td>White</td>\n",
       "      <td>Very Good</td>\n",
       "      <td>0</td>\n",
       "    </tr>\n",
       "    <tr>\n",
       "      <th>2</th>\n",
       "      <td>2020</td>\n",
       "      <td>3</td>\n",
       "      <td>133</td>\n",
       "      <td>3</td>\n",
       "      <td>0002020H000004</td>\n",
       "      <td>1</td>\n",
       "      <td>0002020H00000410</td>\n",
       "      <td>H000004</td>\n",
       "      <td>6083.271</td>\n",
       "      <td>0.00</td>\n",
       "      <td>...</td>\n",
       "      <td>2</td>\n",
       "      <td>10</td>\n",
       "      <td>NaN</td>\n",
       "      <td>NaN</td>\n",
       "      <td>0.0</td>\n",
       "      <td>0.0</td>\n",
       "      <td>Graduate/Professional</td>\n",
       "      <td>White</td>\n",
       "      <td>Very Good</td>\n",
       "      <td>0</td>\n",
       "    </tr>\n",
       "    <tr>\n",
       "      <th>3</th>\n",
       "      <td>2020</td>\n",
       "      <td>4</td>\n",
       "      <td>139</td>\n",
       "      <td>45</td>\n",
       "      <td>0002020H000007</td>\n",
       "      <td>1</td>\n",
       "      <td>0002020H00000710</td>\n",
       "      <td>H000007</td>\n",
       "      <td>11306.962</td>\n",
       "      <td>0.00</td>\n",
       "      <td>...</td>\n",
       "      <td>2</td>\n",
       "      <td>10</td>\n",
       "      <td>NaN</td>\n",
       "      <td>NaN</td>\n",
       "      <td>0.0</td>\n",
       "      <td>0.0</td>\n",
       "      <td>Less than HS</td>\n",
       "      <td>White</td>\n",
       "      <td>Fair</td>\n",
       "      <td>1</td>\n",
       "    </tr>\n",
       "    <tr>\n",
       "      <th>4</th>\n",
       "      <td>2020</td>\n",
       "      <td>5</td>\n",
       "      <td>130</td>\n",
       "      <td>21</td>\n",
       "      <td>0002020H000009</td>\n",
       "      <td>1</td>\n",
       "      <td>0002020H00000910</td>\n",
       "      <td>H000009</td>\n",
       "      <td>6471.818</td>\n",
       "      <td>19317.18</td>\n",
       "      <td>...</td>\n",
       "      <td>1</td>\n",
       "      <td>10</td>\n",
       "      <td>NaN</td>\n",
       "      <td>NaN</td>\n",
       "      <td>1.0</td>\n",
       "      <td>1.0</td>\n",
       "      <td>Bachelor's</td>\n",
       "      <td>White</td>\n",
       "      <td>Very Good</td>\n",
       "      <td>0</td>\n",
       "    </tr>\n",
       "    <tr>\n",
       "      <th>5</th>\n",
       "      <td>2020</td>\n",
       "      <td>6</td>\n",
       "      <td>131</td>\n",
       "      <td>2</td>\n",
       "      <td>0002020H000011</td>\n",
       "      <td>1</td>\n",
       "      <td>0002020H00001110</td>\n",
       "      <td>H000011</td>\n",
       "      <td>3121.049</td>\n",
       "      <td>13087.37</td>\n",
       "      <td>...</td>\n",
       "      <td>2</td>\n",
       "      <td>10</td>\n",
       "      <td>NaN</td>\n",
       "      <td>NaN</td>\n",
       "      <td>1.0</td>\n",
       "      <td>1.0</td>\n",
       "      <td>Bachelor's</td>\n",
       "      <td>White</td>\n",
       "      <td>Very Good</td>\n",
       "      <td>0</td>\n",
       "    </tr>\n",
       "    <tr>\n",
       "      <th>6</th>\n",
       "      <td>2020</td>\n",
       "      <td>7</td>\n",
       "      <td>128</td>\n",
       "      <td>27</td>\n",
       "      <td>0002020H000014</td>\n",
       "      <td>1</td>\n",
       "      <td>0002020H00001410</td>\n",
       "      <td>H000014</td>\n",
       "      <td>754.476</td>\n",
       "      <td>0.00</td>\n",
       "      <td>...</td>\n",
       "      <td>2</td>\n",
       "      <td>10</td>\n",
       "      <td>NaN</td>\n",
       "      <td>NaN</td>\n",
       "      <td>1.0</td>\n",
       "      <td>1.0</td>\n",
       "      <td>Bachelor's</td>\n",
       "      <td>White</td>\n",
       "      <td>Excellent</td>\n",
       "      <td>0</td>\n",
       "    </tr>\n",
       "    <tr>\n",
       "      <th>7</th>\n",
       "      <td>2020</td>\n",
       "      <td>8</td>\n",
       "      <td>123</td>\n",
       "      <td>22</td>\n",
       "      <td>0002020H000018</td>\n",
       "      <td>1</td>\n",
       "      <td>0002020H00001810</td>\n",
       "      <td>H000018</td>\n",
       "      <td>5120.231</td>\n",
       "      <td>0.00</td>\n",
       "      <td>...</td>\n",
       "      <td>1</td>\n",
       "      <td>10</td>\n",
       "      <td>NaN</td>\n",
       "      <td>NaN</td>\n",
       "      <td>0.0</td>\n",
       "      <td>0.0</td>\n",
       "      <td>Bachelor's</td>\n",
       "      <td>Other/Unknown</td>\n",
       "      <td>Good</td>\n",
       "      <td>0</td>\n",
       "    </tr>\n",
       "    <tr>\n",
       "      <th>8</th>\n",
       "      <td>2020</td>\n",
       "      <td>9</td>\n",
       "      <td>122</td>\n",
       "      <td>11</td>\n",
       "      <td>0002020H000019</td>\n",
       "      <td>1</td>\n",
       "      <td>0002020H00001910</td>\n",
       "      <td>H000019</td>\n",
       "      <td>2682.171</td>\n",
       "      <td>0.00</td>\n",
       "      <td>...</td>\n",
       "      <td>1</td>\n",
       "      <td>10</td>\n",
       "      <td>NaN</td>\n",
       "      <td>NaN</td>\n",
       "      <td>1.0</td>\n",
       "      <td>2.0</td>\n",
       "      <td>Bachelor's</td>\n",
       "      <td>White</td>\n",
       "      <td>Excellent</td>\n",
       "      <td>0</td>\n",
       "    </tr>\n",
       "    <tr>\n",
       "      <th>9</th>\n",
       "      <td>2020</td>\n",
       "      <td>10</td>\n",
       "      <td>149</td>\n",
       "      <td>18</td>\n",
       "      <td>0002020H000022</td>\n",
       "      <td>1</td>\n",
       "      <td>0002020H00002210</td>\n",
       "      <td>H000022</td>\n",
       "      <td>1738.221</td>\n",
       "      <td>16060.22</td>\n",
       "      <td>...</td>\n",
       "      <td>2</td>\n",
       "      <td>10</td>\n",
       "      <td>NaN</td>\n",
       "      <td>NaN</td>\n",
       "      <td>1.0</td>\n",
       "      <td>1.0</td>\n",
       "      <td>HS diploma/GED</td>\n",
       "      <td>Black</td>\n",
       "      <td>Good</td>\n",
       "      <td>0</td>\n",
       "    </tr>\n",
       "    <tr>\n",
       "      <th>10</th>\n",
       "      <td>2020</td>\n",
       "      <td>11</td>\n",
       "      <td>105</td>\n",
       "      <td>151</td>\n",
       "      <td>0002020H000026</td>\n",
       "      <td>1</td>\n",
       "      <td>0002020H00002610</td>\n",
       "      <td>H000026</td>\n",
       "      <td>2226.568</td>\n",
       "      <td>0.00</td>\n",
       "      <td>...</td>\n",
       "      <td>2</td>\n",
       "      <td>10</td>\n",
       "      <td>NaN</td>\n",
       "      <td>NaN</td>\n",
       "      <td>1.0</td>\n",
       "      <td>1.0</td>\n",
       "      <td>Bachelor's</td>\n",
       "      <td>Asian</td>\n",
       "      <td>Very Good</td>\n",
       "      <td>0</td>\n",
       "    </tr>\n",
       "    <tr>\n",
       "      <th>11</th>\n",
       "      <td>2020</td>\n",
       "      <td>12</td>\n",
       "      <td>124</td>\n",
       "      <td>64</td>\n",
       "      <td>0002020H000027</td>\n",
       "      <td>1</td>\n",
       "      <td>0002020H00002710</td>\n",
       "      <td>H000027</td>\n",
       "      <td>15594.838</td>\n",
       "      <td>21883.36</td>\n",
       "      <td>...</td>\n",
       "      <td>2</td>\n",
       "      <td>10</td>\n",
       "      <td>NaN</td>\n",
       "      <td>NaN</td>\n",
       "      <td>1.0</td>\n",
       "      <td>2.0</td>\n",
       "      <td>Bachelor's</td>\n",
       "      <td>Unknown-NA</td>\n",
       "      <td>Fair</td>\n",
       "      <td>1</td>\n",
       "    </tr>\n",
       "    <tr>\n",
       "      <th>12</th>\n",
       "      <td>2020</td>\n",
       "      <td>13</td>\n",
       "      <td>140</td>\n",
       "      <td>66</td>\n",
       "      <td>0002020H000031</td>\n",
       "      <td>1</td>\n",
       "      <td>0002020H00003110</td>\n",
       "      <td>H000031</td>\n",
       "      <td>7542.306</td>\n",
       "      <td>27570.61</td>\n",
       "      <td>...</td>\n",
       "      <td>2</td>\n",
       "      <td>10</td>\n",
       "      <td>NaN</td>\n",
       "      <td>NaN</td>\n",
       "      <td>1.0</td>\n",
       "      <td>1.0</td>\n",
       "      <td>HS diploma/GED</td>\n",
       "      <td>White</td>\n",
       "      <td>Excellent</td>\n",
       "      <td>0</td>\n",
       "    </tr>\n",
       "    <tr>\n",
       "      <th>13</th>\n",
       "      <td>2020</td>\n",
       "      <td>14</td>\n",
       "      <td>102</td>\n",
       "      <td>40</td>\n",
       "      <td>0002020H000032</td>\n",
       "      <td>1</td>\n",
       "      <td>0002020H00003210</td>\n",
       "      <td>H000032</td>\n",
       "      <td>3050.209</td>\n",
       "      <td>0.00</td>\n",
       "      <td>...</td>\n",
       "      <td>1</td>\n",
       "      <td>10</td>\n",
       "      <td>NaN</td>\n",
       "      <td>NaN</td>\n",
       "      <td>1.0</td>\n",
       "      <td>1.0</td>\n",
       "      <td>Graduate/Professional</td>\n",
       "      <td>White</td>\n",
       "      <td>Very Good</td>\n",
       "      <td>0</td>\n",
       "    </tr>\n",
       "    <tr>\n",
       "      <th>14</th>\n",
       "      <td>2020</td>\n",
       "      <td>15</td>\n",
       "      <td>151</td>\n",
       "      <td>8</td>\n",
       "      <td>0002020H000033</td>\n",
       "      <td>1</td>\n",
       "      <td>0002020H00003310</td>\n",
       "      <td>H000033</td>\n",
       "      <td>7049.292</td>\n",
       "      <td>0.00</td>\n",
       "      <td>...</td>\n",
       "      <td>2</td>\n",
       "      <td>10</td>\n",
       "      <td>NaN</td>\n",
       "      <td>NaN</td>\n",
       "      <td>1.0</td>\n",
       "      <td>1.0</td>\n",
       "      <td>HS diploma/GED</td>\n",
       "      <td>Unknown-NA</td>\n",
       "      <td>Very Good</td>\n",
       "      <td>0</td>\n",
       "    </tr>\n",
       "    <tr>\n",
       "      <th>15</th>\n",
       "      <td>2020</td>\n",
       "      <td>15</td>\n",
       "      <td>151</td>\n",
       "      <td>8</td>\n",
       "      <td>0002020H000033</td>\n",
       "      <td>2</td>\n",
       "      <td>0002020H00003320</td>\n",
       "      <td>H000033</td>\n",
       "      <td>15658.263</td>\n",
       "      <td>0.00</td>\n",
       "      <td>...</td>\n",
       "      <td>1</td>\n",
       "      <td>10</td>\n",
       "      <td>NaN</td>\n",
       "      <td>NaN</td>\n",
       "      <td>1.0</td>\n",
       "      <td>1.0</td>\n",
       "      <td>Unknown</td>\n",
       "      <td>Unknown-NA</td>\n",
       "      <td>Excellent</td>\n",
       "      <td>0</td>\n",
       "    </tr>\n",
       "    <tr>\n",
       "      <th>16</th>\n",
       "      <td>2020</td>\n",
       "      <td>16</td>\n",
       "      <td>135</td>\n",
       "      <td>27</td>\n",
       "      <td>0002020H000034</td>\n",
       "      <td>1</td>\n",
       "      <td>0002020H00003410</td>\n",
       "      <td>H000034</td>\n",
       "      <td>11454.367</td>\n",
       "      <td>0.00</td>\n",
       "      <td>...</td>\n",
       "      <td>1</td>\n",
       "      <td>10</td>\n",
       "      <td>NaN</td>\n",
       "      <td>NaN</td>\n",
       "      <td>0.0</td>\n",
       "      <td>0.0</td>\n",
       "      <td>HS diploma/GED</td>\n",
       "      <td>Unknown-NA</td>\n",
       "      <td>Excellent</td>\n",
       "      <td>0</td>\n",
       "    </tr>\n",
       "    <tr>\n",
       "      <th>17</th>\n",
       "      <td>2020</td>\n",
       "      <td>17</td>\n",
       "      <td>131</td>\n",
       "      <td>1</td>\n",
       "      <td>0002020H000035</td>\n",
       "      <td>1</td>\n",
       "      <td>0002020H00003510</td>\n",
       "      <td>H000035</td>\n",
       "      <td>9112.442</td>\n",
       "      <td>0.00</td>\n",
       "      <td>...</td>\n",
       "      <td>2</td>\n",
       "      <td>10</td>\n",
       "      <td>NaN</td>\n",
       "      <td>NaN</td>\n",
       "      <td>0.0</td>\n",
       "      <td>0.0</td>\n",
       "      <td>Bachelor's</td>\n",
       "      <td>White</td>\n",
       "      <td>Excellent</td>\n",
       "      <td>0</td>\n",
       "    </tr>\n",
       "    <tr>\n",
       "      <th>18</th>\n",
       "      <td>2020</td>\n",
       "      <td>18</td>\n",
       "      <td>103</td>\n",
       "      <td>4</td>\n",
       "      <td>0002020H000037</td>\n",
       "      <td>1</td>\n",
       "      <td>0002020H00003710</td>\n",
       "      <td>H000037</td>\n",
       "      <td>3781.112</td>\n",
       "      <td>0.00</td>\n",
       "      <td>...</td>\n",
       "      <td>1</td>\n",
       "      <td>10</td>\n",
       "      <td>NaN</td>\n",
       "      <td>NaN</td>\n",
       "      <td>0.0</td>\n",
       "      <td>0.0</td>\n",
       "      <td>Bachelor's</td>\n",
       "      <td>White</td>\n",
       "      <td>Poor</td>\n",
       "      <td>1</td>\n",
       "    </tr>\n",
       "    <tr>\n",
       "      <th>19</th>\n",
       "      <td>2020</td>\n",
       "      <td>19</td>\n",
       "      <td>122</td>\n",
       "      <td>14</td>\n",
       "      <td>0002020H000039</td>\n",
       "      <td>1</td>\n",
       "      <td>0002020H00003910</td>\n",
       "      <td>H000039</td>\n",
       "      <td>12218.806</td>\n",
       "      <td>0.00</td>\n",
       "      <td>...</td>\n",
       "      <td>1</td>\n",
       "      <td>10</td>\n",
       "      <td>NaN</td>\n",
       "      <td>NaN</td>\n",
       "      <td>0.0</td>\n",
       "      <td>0.0</td>\n",
       "      <td>Less than HS</td>\n",
       "      <td>White</td>\n",
       "      <td>Very Good</td>\n",
       "      <td>0</td>\n",
       "    </tr>\n",
       "  </tbody>\n",
       "</table>\n",
       "<p>20 rows × 34 columns</p>\n",
       "</div>"
      ],
      "text/plain": [
       "    year  serial_number  sampling_strata  primary_sampling_unit  \\\n",
       "0   2020              1              150                     25   \n",
       "1   2020              2              111                     10   \n",
       "2   2020              3              133                      3   \n",
       "3   2020              4              139                     45   \n",
       "4   2020              5              130                     21   \n",
       "5   2020              6              131                      2   \n",
       "6   2020              7              128                     27   \n",
       "7   2020              8              123                     22   \n",
       "8   2020              9              122                     11   \n",
       "9   2020             10              149                     18   \n",
       "10  2020             11              105                    151   \n",
       "11  2020             12              124                     64   \n",
       "12  2020             13              140                     66   \n",
       "13  2020             14              102                     40   \n",
       "14  2020             15              151                      8   \n",
       "15  2020             15              151                      8   \n",
       "16  2020             16              135                     27   \n",
       "17  2020             17              131                      1   \n",
       "18  2020             18              103                      4   \n",
       "19  2020             19              122                     14   \n",
       "\n",
       "      household_id  person_number         person_id household_number  \\\n",
       "0   0002020H000002              1  0002020H00000210          H000002   \n",
       "1   0002020H000003              1  0002020H00000310          H000003   \n",
       "2   0002020H000004              1  0002020H00000410          H000004   \n",
       "3   0002020H000007              1  0002020H00000710          H000007   \n",
       "4   0002020H000009              1  0002020H00000910          H000009   \n",
       "5   0002020H000011              1  0002020H00001110          H000011   \n",
       "6   0002020H000014              1  0002020H00001410          H000014   \n",
       "7   0002020H000018              1  0002020H00001810          H000018   \n",
       "8   0002020H000019              1  0002020H00001910          H000019   \n",
       "9   0002020H000022              1  0002020H00002210          H000022   \n",
       "10  0002020H000026              1  0002020H00002610          H000026   \n",
       "11  0002020H000027              1  0002020H00002710          H000027   \n",
       "12  0002020H000031              1  0002020H00003110          H000031   \n",
       "13  0002020H000032              1  0002020H00003210          H000032   \n",
       "14  0002020H000033              1  0002020H00003310          H000033   \n",
       "15  0002020H000033              2  0002020H00003320          H000033   \n",
       "16  0002020H000034              1  0002020H00003410          H000034   \n",
       "17  0002020H000035              1  0002020H00003510          H000035   \n",
       "18  0002020H000037              1  0002020H00003710          H000037   \n",
       "19  0002020H000039              1  0002020H00003910          H000039   \n",
       "\n",
       "    sample_person_weight  longitudinal_weight  ...  \\\n",
       "0               5946.002             17605.50  ...   \n",
       "1               6288.726                 0.00  ...   \n",
       "2               6083.271                 0.00  ...   \n",
       "3              11306.962                 0.00  ...   \n",
       "4               6471.818             19317.18  ...   \n",
       "5               3121.049             13087.37  ...   \n",
       "6                754.476                 0.00  ...   \n",
       "7               5120.231                 0.00  ...   \n",
       "8               2682.171                 0.00  ...   \n",
       "9               1738.221             16060.22  ...   \n",
       "10              2226.568                 0.00  ...   \n",
       "11             15594.838             21883.36  ...   \n",
       "12              7542.306             27570.61  ...   \n",
       "13              3050.209                 0.00  ...   \n",
       "14              7049.292                 0.00  ...   \n",
       "15             15658.263                 0.00  ...   \n",
       "16             11454.367                 0.00  ...   \n",
       "17              9112.442                 0.00  ...   \n",
       "18              3781.112                 0.00  ...   \n",
       "19             12218.806                 0.00  ...   \n",
       "\n",
       "    private_insurance_coverage  state_plan_insurance_coverage  \\\n",
       "0                            2                             10   \n",
       "1                            2                             10   \n",
       "2                            2                             10   \n",
       "3                            2                             10   \n",
       "4                            1                             10   \n",
       "5                            2                             10   \n",
       "6                            2                             10   \n",
       "7                            1                             10   \n",
       "8                            1                             10   \n",
       "9                            2                             10   \n",
       "10                           2                             10   \n",
       "11                           2                             10   \n",
       "12                           2                             10   \n",
       "13                           1                             10   \n",
       "14                           2                             10   \n",
       "15                           1                             10   \n",
       "16                           1                             10   \n",
       "17                           2                             10   \n",
       "18                           1                             10   \n",
       "19                           1                             10   \n",
       "\n",
       "    emailed_provider_past_12mo  internet_access  covid19_diagnosed_flag  \\\n",
       "0                          NaN              NaN                     1.0   \n",
       "1                          NaN              NaN                     0.0   \n",
       "2                          NaN              NaN                     0.0   \n",
       "3                          NaN              NaN                     0.0   \n",
       "4                          NaN              NaN                     1.0   \n",
       "5                          NaN              NaN                     1.0   \n",
       "6                          NaN              NaN                     1.0   \n",
       "7                          NaN              NaN                     0.0   \n",
       "8                          NaN              NaN                     1.0   \n",
       "9                          NaN              NaN                     1.0   \n",
       "10                         NaN              NaN                     1.0   \n",
       "11                         NaN              NaN                     1.0   \n",
       "12                         NaN              NaN                     1.0   \n",
       "13                         NaN              NaN                     1.0   \n",
       "14                         NaN              NaN                     1.0   \n",
       "15                         NaN              NaN                     1.0   \n",
       "16                         NaN              NaN                     0.0   \n",
       "17                         NaN              NaN                     0.0   \n",
       "18                         NaN              NaN                     0.0   \n",
       "19                         NaN              NaN                     0.0   \n",
       "\n",
       "    covid19_tested_flag  education_attainment_group       race_grp  \\\n",
       "0                   1.0       Graduate/Professional          White   \n",
       "1                   0.0       Graduate/Professional          White   \n",
       "2                   0.0       Graduate/Professional          White   \n",
       "3                   0.0                Less than HS          White   \n",
       "4                   1.0                  Bachelor's          White   \n",
       "5                   1.0                  Bachelor's          White   \n",
       "6                   1.0                  Bachelor's          White   \n",
       "7                   0.0                  Bachelor's  Other/Unknown   \n",
       "8                   2.0                  Bachelor's          White   \n",
       "9                   1.0              HS diploma/GED          Black   \n",
       "10                  1.0                  Bachelor's          Asian   \n",
       "11                  2.0                  Bachelor's     Unknown-NA   \n",
       "12                  1.0              HS diploma/GED          White   \n",
       "13                  1.0       Graduate/Professional          White   \n",
       "14                  1.0              HS diploma/GED     Unknown-NA   \n",
       "15                  1.0                     Unknown     Unknown-NA   \n",
       "16                  0.0              HS diploma/GED     Unknown-NA   \n",
       "17                  0.0                  Bachelor's          White   \n",
       "18                  0.0                  Bachelor's          White   \n",
       "19                  0.0                Less than HS          White   \n",
       "\n",
       "    health_status_label  bad_health  \n",
       "0             Excellent           0  \n",
       "1             Very Good           0  \n",
       "2             Very Good           0  \n",
       "3                  Fair           1  \n",
       "4             Very Good           0  \n",
       "5             Very Good           0  \n",
       "6             Excellent           0  \n",
       "7                  Good           0  \n",
       "8             Excellent           0  \n",
       "9                  Good           0  \n",
       "10            Very Good           0  \n",
       "11                 Fair           1  \n",
       "12            Excellent           0  \n",
       "13            Very Good           0  \n",
       "14            Very Good           0  \n",
       "15            Excellent           0  \n",
       "16            Excellent           0  \n",
       "17            Excellent           0  \n",
       "18                 Poor           1  \n",
       "19            Very Good           0  \n",
       "\n",
       "[20 rows x 34 columns]"
      ]
     },
     "execution_count": 123,
     "metadata": {},
     "output_type": "execute_result"
    }
   ],
   "source": [
    "df.head(20)"
   ]
  },
  {
   "cell_type": "code",
   "execution_count": 124,
   "id": "35b972a0-0a24-4e58-aa99-36d8c5d2798c",
   "metadata": {},
   "outputs": [],
   "source": [
    "educationxrace=(df.groupby([\"education_attainment_group\", \"race_grp\"])[\"bad_health\"]\n",
    "                  .mean()\n",
    "                  .reset_index())"
   ]
  },
  {
   "cell_type": "code",
   "execution_count": 125,
   "id": "868a0682-05bb-4b57-b0f2-924e7acbb4d8",
   "metadata": {},
   "outputs": [],
   "source": [
    "edu_race_pivot = educationxrace.pivot(\n",
    "    index=\"education_attainment_group\",\n",
    "    columns=\"race_grp\",\n",
    "    values=\"bad_health\"\n",
    ")"
   ]
  },
  {
   "cell_type": "code",
   "execution_count": 126,
   "id": "8532ff14-9231-47f3-ae41-04c9ddf6d55e",
   "metadata": {},
   "outputs": [
    {
     "data": {
      "image/png": "[encoded data removed]",
      "text/plain": [
       "<Figure size 1000x600 with 1 Axes>"
      ]
     },
     "metadata": {},
     "output_type": "display_data"
    }
   ],
   "source": [
    "edu_race_pivot.plot(kind=\"bar\", figsize=(10,6))\n",
    "plt.ylabel(\"Share in Fair/Poor Health\")\n",
    "plt.title(\"Fair/Poor Health by Education and Race\")\n",
    "plt.xticks(rotation=45, ha=\"right\")\n",
    "plt.legend(title=\"Race\")\n",
    "plt.tight_layout()\n",
    "plt.show()"
   ]
  },
  {
   "cell_type": "code",
   "execution_count": 127,
   "id": "250c2f57-f00f-4c18-9d39-e10a6a60ee3c",
   "metadata": {},
   "outputs": [],
   "source": [
    "edu_race_pivot.to_csv(\"edu_race_bad_health.csv\", index=True)"
   ]
  },
  {
   "cell_type": "code",
   "execution_count": 128,
   "id": "05b9abba-279b-4da3-bd85-3dd2a63fa7b3",
   "metadata": {},
   "outputs": [
    {
     "name": "stdout",
     "output_type": "stream",
     "text": [
      "race_grp                        AIAN     Asian     Black  Other/Multiracial  \\\n",
      "education_attainment_group                                                    \n",
      "Bachelor's                  0.150376  0.071778  0.107938           0.083333   \n",
      "Graduate/Professional       0.108434  0.044383  0.094510           0.075812   \n",
      "HS diploma/GED              0.231527  0.164639  0.246397           0.130064   \n",
      "Less than HS                0.410156  0.255906  0.408613           0.228571   \n",
      "Some college/AA             0.214137  0.111591  0.204305           0.141732   \n",
      "Unknown                     0.031401  0.017962  0.040511           0.018807   \n",
      "\n",
      "race_grp                    Other/Unknown  Unknown-DK  Unknown-NA  \\\n",
      "education_attainment_group                                          \n",
      "Bachelor's                       0.158140    0.176471    0.076566   \n",
      "Graduate/Professional            0.096774    0.000000    0.068966   \n",
      "HS diploma/GED                   0.259587    0.266667    0.159139   \n",
      "Less than HS                     0.500000    0.148148    0.269804   \n",
      "Some college/AA                  0.284369    0.120000    0.136390   \n",
      "Unknown                          0.042593    0.017544    0.043245   \n",
      "\n",
      "race_grp                    Unknown-Refused     White  \n",
      "education_attainment_group                             \n",
      "Bachelor's                         0.055556  0.079902  \n",
      "Graduate/Professional              0.166667  0.068148  \n",
      "HS diploma/GED                     0.250000  0.203174  \n",
      "Less than HS                       0.250000  0.338337  \n",
      "Some college/AA                    0.200000  0.155488  \n",
      "Unknown                            0.021739  0.023134  \n"
     ]
    }
   ],
   "source": [
    "print(edu_race_pivot)"
   ]
  },
  {
   "cell_type": "code",
   "execution_count": 129,
   "id": "39eb489f-9a8a-455b-8b98-f9c80c7ca075",
   "metadata": {},
   "outputs": [],
   "source": [
    "#Looks like minority groups share more of the proportion for bad health in every education group"
   ]
  },
  {
   "cell_type": "code",
   "execution_count": 130,
   "id": "fb994568-3524-45a2-b6e2-99946bff7a4e",
   "metadata": {},
   "outputs": [],
   "source": [
    "healthy = {\"Very Good\",\"Excellent\"}"
   ]
  },
  {
   "cell_type": "code",
   "execution_count": 131,
   "id": "2a19c80e-c683-43df-b3f2-693fa8bd8398",
   "metadata": {},
   "outputs": [],
   "source": [
    "df[\"good_health\"] = df[\"health_status_label\"].isin(healthy).astype(int)"
   ]
  },
  {
   "cell_type": "code",
   "execution_count": 132,
   "id": "379acae8-7910-48e4-9010-0070661daef3",
   "metadata": {},
   "outputs": [],
   "source": [
    "edu_health_shareg=  (df.groupby(\"education_attainment_group\", as_index=False)[\"good_health\"]\n",
    "                      .mean()\n",
    "                  .sort_values(\"good_health\",ascending=False))"
   ]
  },
  {
   "cell_type": "code",
   "execution_count": 133,
   "id": "8365cbd2-a332-431f-bcde-5181370438f8",
   "metadata": {},
   "outputs": [
    {
     "data": {
      "image/png": "[encoded data removed]",
      "text/plain": [
       "<Figure size 640x480 with 1 Axes>"
      ]
     },
     "metadata": {},
     "output_type": "display_data"
    }
   ],
   "source": [
    "plt.bar(edu_health_shareg[\"education_attainment_group\"], edu_health_shareg[\"good_health\"])\n",
    "plt.xticks(rotation=45, ha=\"right\")\n",
    "plt.ylabel(\"Share in Very Good/Excellent Health\")\n",
    "plt.title(\"NHIS: Very Good/Excellent Health by Education\")\n",
    "plt.tight_layout()\n",
    "plt.show()"
   ]
  },
  {
   "cell_type": "code",
   "execution_count": null,
   "id": "792b606a-2cf8-4f4b-b042-740f89ba413c",
   "metadata": {},
   "outputs": [],
   "source": []
  },
  {
   "cell_type": "code",
   "execution_count": 134,
   "id": "27f4020e-e9f7-4fc4-8506-6378c42ee462",
   "metadata": {},
   "outputs": [],
   "source": [
    "educationxraceg=(df.groupby([\"education_attainment_group\", \"race_grp\"])[\"good_health\"]\n",
    "                  .mean()\n",
    "                  .reset_index())"
   ]
  },
  {
   "cell_type": "code",
   "execution_count": 135,
   "id": "12e57cc6-a651-45ff-805e-350f13a93b5c",
   "metadata": {},
   "outputs": [],
   "source": [
    "edu_race_pivotg = educationxraceg.pivot(\n",
    "    index=\"education_attainment_group\",\n",
    "    columns=\"race_grp\",\n",
    "    values=\"good_health\"\n",
    ")"
   ]
  },
  {
   "cell_type": "code",
   "execution_count": 136,
   "id": "34a4e648-58e6-40e0-aa03-1b1fe7e6bd96",
   "metadata": {},
   "outputs": [
    {
     "data": {
      "image/png": "[encoded data removed]",
      "text/plain": [
       "<Figure size 1000x600 with 1 Axes>"
      ]
     },
     "metadata": {},
     "output_type": "display_data"
    }
   ],
   "source": [
    "edu_race_pivotg.plot(kind=\"bar\", figsize=(10,6))\n",
    "plt.ylabel(\"Share in Very Good/Excellent Health\")\n",
    "plt.title(\"Very Good/Excellent Health by Education and Race\")\n",
    "plt.xticks(rotation=45, ha=\"right\")\n",
    "plt.legend(title=\"Race\")\n",
    "plt.tight_layout()\n",
    "plt.show()"
   ]
  },
  {
   "cell_type": "code",
   "execution_count": 137,
   "id": "c3620717-67f2-42cf-9814-3cf30fdd2105",
   "metadata": {},
   "outputs": [],
   "source": [
    "#Breakdown of total Health care expenditure in 2020 by education groups"
   ]
  },
  {
   "cell_type": "code",
   "execution_count": 138,
   "id": "671a9e17-1de3-4e35-9839-b0e7692ffebd",
   "metadata": {},
   "outputs": [],
   "source": [
    "healthcarespending_by_edu = (\n",
    "    meps2020.groupby(\"edu_group\")[\"TOTEXP20\"]\n",
    "      .agg(mean=\"mean\", median=\"median\", n=\"count\")\n",
    "      .sort_values(\"mean\", ascending=False)\n",
    "      .reset_index()\n",
    ")"
   ]
  },
  {
   "cell_type": "code",
   "execution_count": 139,
   "id": "525f7781-5587-42af-83a4-2cefe9a7a70c",
   "metadata": {},
   "outputs": [
    {
     "name": "stdout",
     "output_type": "stream",
     "text": [
      "                   edu_group         mean  median     n\n",
      "0      Graduate/Professional  8734.959411  2364.0  2784\n",
      "1               Some College  7773.806313  1709.0  4879\n",
      "2                 Bachelor's  7358.824181  1823.0  4061\n",
      "3                High School  7132.439495  1244.0  6421\n",
      "4  High School Not Completed  3882.926501   449.0  9660\n"
     ]
    }
   ],
   "source": [
    "print(healthcarespending_by_edu)"
   ]
  },
  {
   "cell_type": "code",
   "execution_count": 140,
   "id": "faafcd25-5553-4322-94ef-3c70145a2c84",
   "metadata": {},
   "outputs": [],
   "source": [
    "#High schools not completed being so low probably has to do with the fact that those respondents are under 18 and healthier?"
   ]
  },
  {
   "cell_type": "code",
   "execution_count": 141,
   "id": "f4cb874c-05ad-44de-9eb9-4e7442e823cc",
   "metadata": {},
   "outputs": [],
   "source": [
    "#bar chart for mean spending by education"
   ]
  },
  {
   "cell_type": "code",
   "execution_count": 142,
   "id": "63aaa6b1-b009-4fca-9029-3f81c074809a",
   "metadata": {},
   "outputs": [
    {
     "data": {
      "image/png": "[encoded data removed]",
      "text/plain": [
       "<Figure size 800x400 with 1 Axes>"
      ]
     },
     "metadata": {},
     "output_type": "display_data"
    }
   ],
   "source": [
    "plt.figure(figsize=(8,4))\n",
    "plt.bar(healthcarespending_by_edu [\"edu_group\"], healthcarespending_by_edu [\"mean\"])\n",
    "plt.xticks(rotation=45, ha=\"right\")\n",
    "plt.ylabel(\"Mean Total Spending ($)\")\n",
    "plt.title(\"MEPS 2020: Mean  Healthcare Expenditures by Education\")\n",
    "plt.tight_layout()\n",
    "plt.show()"
   ]
  },
  {
   "cell_type": "code",
   "execution_count": 143,
   "id": "e130c1ef-016e-4923-94dd-641d8084ee4f",
   "metadata": {},
   "outputs": [],
   "source": [
    "healthcarespending_edu_race = (\n",
    "    meps2020.groupby([\"edu_group\",\"RACEV1X\"], observed=True)[\"TOTEXP20\"]\n",
    "      .mean()\n",
    "      .rename(\"average_spending\")\n",
    "      .reset_index())"
   ]
  },
  {
   "cell_type": "code",
   "execution_count": 144,
   "id": "48805ce8-5d2d-41ad-a3d2-fd9e01f248c4",
   "metadata": {},
   "outputs": [
    {
     "name": "stdout",
     "output_type": "stream",
     "text": [
      "Index(['DUPERSID', 'PERWT20F', 'INSCOV20', 'TOTEXP20', 'TOTSLF20', 'POVCAT20',\n",
      "       'RACEV1X', 'HISPANX', 'EDUCYR', 'AGE20X', 'SEX', 'REGION20',\n",
      "       'uninsured', 'race', 'Coverage', 'coverage_status', 'EDUCYR_num',\n",
      "       'edu_group'],\n",
      "      dtype='object')\n"
     ]
    }
   ],
   "source": [
    "print(meps2020.columns)"
   ]
  },
  {
   "cell_type": "code",
   "execution_count": 145,
   "id": "dcedf9a1-b678-47cc-9745-2fa3da9e892b",
   "metadata": {},
   "outputs": [
    {
     "name": "stdout",
     "output_type": "stream",
     "text": [
      "                    edu_group                                      RACEV1X  \\\n",
      "0                  Bachelor's             1 WHITE - NO OTHER RACE REPORTED   \n",
      "1                  Bachelor's             2 BLACK - NO OTHER RACE REPORTED   \n",
      "2                  Bachelor's  3 AMER INDIAN/ALASKA NATIVE - NO OTHER RACE   \n",
      "3                  Bachelor's       4 ASIAN/NATV HAWAIIAN/PACFC ISL-NO OTH   \n",
      "4                  Bachelor's                    6 MULTIPLE RACES REPORTED   \n",
      "5       Graduate/Professional             1 WHITE - NO OTHER RACE REPORTED   \n",
      "6       Graduate/Professional             2 BLACK - NO OTHER RACE REPORTED   \n",
      "7       Graduate/Professional  3 AMER INDIAN/ALASKA NATIVE - NO OTHER RACE   \n",
      "8       Graduate/Professional       4 ASIAN/NATV HAWAIIAN/PACFC ISL-NO OTH   \n",
      "9       Graduate/Professional                    6 MULTIPLE RACES REPORTED   \n",
      "10                High School             1 WHITE - NO OTHER RACE REPORTED   \n",
      "11                High School             2 BLACK - NO OTHER RACE REPORTED   \n",
      "12                High School  3 AMER INDIAN/ALASKA NATIVE - NO OTHER RACE   \n",
      "13                High School       4 ASIAN/NATV HAWAIIAN/PACFC ISL-NO OTH   \n",
      "14                High School                    6 MULTIPLE RACES REPORTED   \n",
      "15  High School Not Completed             1 WHITE - NO OTHER RACE REPORTED   \n",
      "16  High School Not Completed             2 BLACK - NO OTHER RACE REPORTED   \n",
      "17  High School Not Completed  3 AMER INDIAN/ALASKA NATIVE - NO OTHER RACE   \n",
      "18  High School Not Completed       4 ASIAN/NATV HAWAIIAN/PACFC ISL-NO OTH   \n",
      "19  High School Not Completed                    6 MULTIPLE RACES REPORTED   \n",
      "20               Some College             1 WHITE - NO OTHER RACE REPORTED   \n",
      "21               Some College             2 BLACK - NO OTHER RACE REPORTED   \n",
      "22               Some College  3 AMER INDIAN/ALASKA NATIVE - NO OTHER RACE   \n",
      "23               Some College       4 ASIAN/NATV HAWAIIAN/PACFC ISL-NO OTH   \n",
      "24               Some College                    6 MULTIPLE RACES REPORTED   \n",
      "\n",
      "    average_spending  \n",
      "0        7745.976094  \n",
      "1        5558.360526  \n",
      "2        7916.625000  \n",
      "3        3229.155738  \n",
      "4       19406.179487  \n",
      "5        8857.248619  \n",
      "6       15359.399123  \n",
      "7        3167.200000  \n",
      "8        3741.150470  \n",
      "9        6420.745455  \n",
      "10       7314.287173  \n",
      "11       6943.630382  \n",
      "12       4952.266667  \n",
      "13       4465.815261  \n",
      "14       8089.983333  \n",
      "15       3890.325581  \n",
      "16       4160.804169  \n",
      "17       7509.009615  \n",
      "18       2879.363014  \n",
      "19       3066.781369  \n",
      "20       7856.189793  \n",
      "21       7517.445869  \n",
      "22       4822.612903  \n",
      "23       3896.186047  \n",
      "24      12479.213018  \n"
     ]
    }
   ],
   "source": [
    "print(healthcarespending_edu_race)"
   ]
  },
  {
   "cell_type": "code",
   "execution_count": 146,
   "id": "9208b987-56a3-4604-84b6-dbf596493783",
   "metadata": {},
   "outputs": [],
   "source": [
    "#check the share of people using private and public insurance (breadown by education and race)"
   ]
  },
  {
   "cell_type": "code",
   "execution_count": 147,
   "id": "a5c72136-9f37-4fbd-ad68-b67609ffa6bb",
   "metadata": {},
   "outputs": [
    {
     "data": {
      "image/png": "[encoded data removed]",
      "text/plain": [
       "<Figure size 1200x600 with 1 Axes>"
      ]
     },
     "metadata": {},
     "output_type": "display_data"
    }
   ],
   "source": [
    "plt.figure(figsize=(12, 6))\n",
    "sns.barplot(\n",
    "    data=healthcarespending_edu_race,\n",
    "    x=\"edu_group\", \n",
    "    y=\"average_spending\", \n",
    "    hue=\"RACEV1X\"\n",
    ")\n",
    "plt.title(\"Average Healthcare Spending by Education Level and Race\")\n",
    "plt.xlabel(\"Education Level\")\n",
    "plt.ylabel(\"Average Spending ($)\")\n",
    "plt.legend(title=\"Race\", bbox_to_anchor=(1.05, 1), loc='upper left')\n",
    "plt.xticks(rotation=0)\n",
    "\n",
    "plt.tight_layout()\n",
    "plt.show()\n"
   ]
  },
  {
   "cell_type": "code",
   "execution_count": 148,
   "id": "103ebae7-9548-42de-83e0-60b742555ba3",
   "metadata": {},
   "outputs": [],
   "source": [
    "healthcarespending_edu_race.to_csv(\"healthcarespendingbyedurace.csv\", index=False)"
   ]
  },
  {
   "cell_type": "code",
   "execution_count": 149,
   "id": "0bc02991-cf22-4dec-abbf-5de27b524edb",
   "metadata": {},
   "outputs": [],
   "source": [
    "nhis = df.copy()\n",
    "meps = meps2020.copy()"
   ]
  },
  {
   "cell_type": "code",
   "execution_count": 150,
   "id": "8c48f792-9d38-4efb-89d5-64c79ebdb519",
   "metadata": {},
   "outputs": [],
   "source": [
    "bad_set = {\"Fair\", \"Poor\"}\n",
    "nhis[\"bad_health\"] = nhis[\"health_status_label\"].isin(bad_set).astype(int)"
   ]
  },
  {
   "cell_type": "code",
   "execution_count": null,
   "id": "523fa64f-3b11-4c95-a6f0-bbaf7e77f465",
   "metadata": {},
   "outputs": [],
   "source": []
  }
 ],
 "metadata": {
  "kernelspec": {
   "display_name": "Python [conda env:base] *",
   "language": "python",
   "name": "conda-base-py"
  },
  "language_info": {
   "codemirror_mode": {
    "name": "ipython",
    "version": 3
   },
   "file_extension": ".py",
   "mimetype": "text/x-python",
   "name": "python",
   "nbconvert_exporter": "python",
   "pygments_lexer": "ipython3",
   "version": "3.13.5"
  }
 },
 "nbformat": 4,
 "nbformat_minor": 5
}
